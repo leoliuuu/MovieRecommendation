{
  "nbformat": 4,
  "nbformat_minor": 0,
  "metadata": {
    "colab": {
      "name": "Complete Project-Movie Recommendation",
      "provenance": [],
      "collapsed_sections": [],
      "toc_visible": true,
      "include_colab_link": true
    },
    "kernelspec": {
      "name": "python3",
      "display_name": "Python 3"
    },
    "accelerator": "GPU"
  },
  "cells": [
    {
      "cell_type": "markdown",
      "metadata": {
        "id": "view-in-github",
        "colab_type": "text"
      },
      "source": [
        "<a href=\"https://colab.research.google.com/github/leoliuuu/MovieRecommendation/blob/main/Complete_Project_Movie_Recommendation.ipynb\" target=\"_parent\"><img src=\"https://colab.research.google.com/assets/colab-badge.svg\" alt=\"Open In Colab\"/></a>"
      ]
    },
    {
      "cell_type": "markdown",
      "metadata": {
        "id": "fKI3N16zZuQ4"
      },
      "source": [
        "# Movie Recommendation with Movielens Dataset\n"
      ]
    },
    {
      "cell_type": "markdown",
      "metadata": {
        "id": "bvdZCfauc6TN"
      },
      "source": [
        "# Installing Dependencies and Dataset"
      ]
    },
    {
      "cell_type": "code",
      "metadata": {
        "id": "id-0meSTdDJv",
        "colab": {
          "base_uri": "https://localhost:8080/",
          "height": 34
        },
        "outputId": "c7398c55-8d0c-4da3-e10a-1c3848ed13dd"
      },
      "source": [
        "!pip install fuzzywuzzy\n",
        "import os, gdown, warnings,os, math, time\n",
        "import numpy as np\n",
        "import pandas as pd\n",
        "import matplotlib.pyplot as plt\n",
        "import seaborn as sns\n",
        "from fuzzywuzzy import fuzz\n",
        "from sklearn.model_selection import train_test_split\n",
        "from scipy.sparse import csr_matrix\n",
        "from sklearn.neighbors import NearestNeighbors\n",
        "from sklearn.model_selection import train_test_split\n",
        "from sklearn.metrics import mean_squared_error as MSE\n",
        "import tensorflow as tf\n",
        "from tensorflow.keras.layers import Input, Embedding, Flatten, Dense, Multiply, Concatenate\n",
        "from tensorflow.keras.regularizers import l2\n",
        "from tensorflow.keras.models import Model\n",
        "from tensorflow.keras.callbacks import EarlyStopping, ModelCheckpoint\n",
        "import tensorflow.keras.backend as K\n",
        "from tensorflow.keras.models import load_model\n",
        "warnings.filterwarnings('ignore')"
      ],
      "execution_count": null,
      "outputs": [
        {
          "output_type": "stream",
          "text": [
            "Requirement already satisfied: fuzzywuzzy in /usr/local/lib/python3.6/dist-packages (0.17.0)\n"
          ],
          "name": "stdout"
        }
      ]
    },
    {
      "cell_type": "code",
      "metadata": {
        "id": "4uaMLaPFd-tJ",
        "colab": {
          "base_uri": "https://localhost:8080/",
          "height": 136
        },
        "outputId": "7cc0cda3-b4f6-4572-88f8-04e68e719ca4"
      },
      "source": [
        "gdown.download('https://drive.google.com/uc?authuser=0&id=1oP_H072BGA1KSuY-PbwlYkTaEFE1W3eP&export=download', 'ml-latest-small.zip', quiet=False)\n",
        "!unzip -qq ml-latest-small.zip"
      ],
      "execution_count": null,
      "outputs": [
        {
          "output_type": "stream",
          "text": [
            "Downloading...\n",
            "From: https://drive.google.com/uc?authuser=0&id=1oP_H072BGA1KSuY-PbwlYkTaEFE1W3eP&export=download\n",
            "To: /content/ml-latest-small.zip\n",
            "100%|██████████| 978k/978k [00:00<00:00, 58.0MB/s]\n"
          ],
          "name": "stderr"
        },
        {
          "output_type": "stream",
          "text": [
            "replace ml-latest-small/links.csv? [y]es, [n]o, [A]ll, [N]one, [r]ename: a\n",
            "error:  invalid response [a]\n",
            "replace ml-latest-small/links.csv? [y]es, [n]o, [A]ll, [N]one, [r]ename: A\n"
          ],
          "name": "stdout"
        }
      ]
    },
    {
      "cell_type": "code",
      "metadata": {
        "id": "s3HX_QuPeWJx"
      },
      "source": [
        "data_path = \"ml-latest-small/\"\n",
        "\n",
        "df_ratings = pd.read_csv(\n",
        "    os.path.join(data_path, 'ratings.csv'),\n",
        "    usecols=['userId', 'movieId', 'rating'],\n",
        "    dtype={'userId': 'int32', 'movieId': 'int32', 'rating': 'float32'})\n",
        "\n",
        "df_movies = pd.read_csv(\n",
        "    os.path.join(data_path,'movies.csv'),\n",
        "    usecols=['movieId','title'],\n",
        "    dtype={'movieId':'int32','title':'str'})\n",
        "\n",
        "#merge two files into one so that the rating list will have the movie names attached to it\n",
        "df_full_movie = pd.merge(df_ratings,df_movies, on=\"movieId\")"
      ],
      "execution_count": null,
      "outputs": []
    },
    {
      "cell_type": "markdown",
      "metadata": {
        "id": "dLJTsmEnejD4"
      },
      "source": [
        "# Exploratory Analysis\n",
        "\n",
        "In order to build any models on a dataset, it is important to take a look at the dataset and gain as much understanding as I could through some exploratory analysis."
      ]
    },
    {
      "cell_type": "code",
      "metadata": {
        "id": "GVU3J6kzhPaJ",
        "colab": {
          "base_uri": "https://localhost:8080/",
          "height": 221
        },
        "outputId": "1b974dab-a18c-4976-a392-181694b09dad"
      },
      "source": [
        "# I first want to see the list of the movies with the highest average rating.\n",
        "df_full_movie.groupby('title')['rating'].mean().sort_values(ascending=False).head(10)"
      ],
      "execution_count": null,
      "outputs": [
        {
          "output_type": "execute_result",
          "data": {
            "text/plain": [
              "title\n",
              "Karlson Returns (1970)                           5.0\n",
              "Winter in Prostokvashino (1984)                  5.0\n",
              "My Love (2006)                                   5.0\n",
              "Sorority House Massacre II (1990)                5.0\n",
              "Winnie the Pooh and the Day of Concern (1972)    5.0\n",
              "Sorority House Massacre (1986)                   5.0\n",
              "Bill Hicks: Revelations (1993)                   5.0\n",
              "My Man Godfrey (1957)                            5.0\n",
              "Hellbenders (2012)                               5.0\n",
              "In the blue sea, in the white foam. (1984)       5.0\n",
              "Name: rating, dtype: float32"
            ]
          },
          "metadata": {
            "tags": []
          },
          "execution_count": 52
        }
      ]
    },
    {
      "cell_type": "code",
      "metadata": {
        "id": "neVImubwhUNv",
        "colab": {
          "base_uri": "https://localhost:8080/",
          "height": 136
        },
        "outputId": "c386ce53-255a-45e9-9b30-61fe40e8ff06"
      },
      "source": [
        "# The list of the movies with the most ratings\n",
        "df_full_movie.groupby('title')['rating'].count().sort_values(ascending=False).head()"
      ],
      "execution_count": null,
      "outputs": [
        {
          "output_type": "execute_result",
          "data": {
            "text/plain": [
              "title\n",
              "Forrest Gump (1994)                 329\n",
              "Shawshank Redemption, The (1994)    317\n",
              "Pulp Fiction (1994)                 307\n",
              "Silence of the Lambs, The (1991)    279\n",
              "Matrix, The (1999)                  278\n",
              "Name: rating, dtype: int64"
            ]
          },
          "metadata": {
            "tags": []
          },
          "execution_count": 53
        }
      ]
    },
    {
      "cell_type": "code",
      "metadata": {
        "id": "w8jbf3rFkHuy",
        "colab": {
          "base_uri": "https://localhost:8080/",
          "height": 34
        },
        "outputId": "607f72b8-0578-4e13-b2db-a5404a028c80"
      },
      "source": [
        "n_users = len(df_ratings.userId.unique())\n",
        "n_items = len(df_ratings.movieId.unique())\n",
        "print('There are {} unique users and {} unique movies in this dataset'.format(n_users, n_items))"
      ],
      "execution_count": null,
      "outputs": [
        {
          "output_type": "stream",
          "text": [
            "There are 610 unique users and 9724 unique movies in this dataset\n"
          ],
          "name": "stdout"
        }
      ]
    },
    {
      "cell_type": "code",
      "metadata": {
        "id": "VZPqkpBIi-pJ",
        "colab": {
          "base_uri": "https://localhost:8080/",
          "height": 34
        },
        "outputId": "7f0997ab-92a2-4907-8d9e-45c8eab0e805"
      },
      "source": [
        "average_rating = df_full_movie['rating'].mean()\n",
        "\n",
        "print('The average ratings across movies on a scale of 5 is', round(average_rating,4))"
      ],
      "execution_count": null,
      "outputs": [
        {
          "output_type": "stream",
          "text": [
            "The average ratings across movies on a scale of 5 is 3.5016\n"
          ],
          "name": "stdout"
        }
      ]
    },
    {
      "cell_type": "code",
      "metadata": {
        "id": "zGntheZckfA5",
        "colab": {
          "base_uri": "https://localhost:8080/",
          "height": 272
        },
        "outputId": "3eab2f79-9e3c-434a-dc12-1b616bbb418d"
      },
      "source": [
        "# get counts based off the movies\n",
        "df_movie_ratings_count = pd.DataFrame(df_full_movie.groupby('title')['rating'].mean())\n",
        "df_movie_ratings_count['rating_counts'] = pd.DataFrame(df_full_movie.groupby('title')['rating'].count())\n",
        "print(df_movie_ratings_count)"
      ],
      "execution_count": null,
      "outputs": [
        {
          "output_type": "stream",
          "text": [
            "                                             rating  rating_counts\n",
            "title                                                             \n",
            "'71 (2014)                                 4.000000              1\n",
            "'Hellboy': The Seeds of Creation (2004)    4.000000              1\n",
            "'Round Midnight (1986)                     3.500000              2\n",
            "'Salem's Lot (2004)                        5.000000              1\n",
            "'Til There Was You (1997)                  4.000000              2\n",
            "...                                             ...            ...\n",
            "eXistenZ (1999)                            3.863636             22\n",
            "xXx (2002)                                 2.770833             24\n",
            "xXx: State of the Union (2005)             2.000000              5\n",
            "¡Three Amigos! (1986)                      3.134615             26\n",
            "À nous la liberté (Freedom for Us) (1931)  1.000000              1\n",
            "\n",
            "[9719 rows x 2 columns]\n"
          ],
          "name": "stdout"
        }
      ]
    },
    {
      "cell_type": "code",
      "metadata": {
        "id": "H0-SgkGtlX9k",
        "colab": {
          "base_uri": "https://localhost:8080/",
          "height": 390
        },
        "outputId": "f12c48a8-5de8-4efd-e724-c9f4923f76c0"
      },
      "source": [
        "# get counts based off the ratings\n",
        "df_ratings_count = pd.DataFrame(df_ratings.groupby('rating').size(), columns=['count'])\n",
        "df_ratings_count"
      ],
      "execution_count": null,
      "outputs": [
        {
          "output_type": "execute_result",
          "data": {
            "text/html": [
              "<div>\n",
              "<style scoped>\n",
              "    .dataframe tbody tr th:only-of-type {\n",
              "        vertical-align: middle;\n",
              "    }\n",
              "\n",
              "    .dataframe tbody tr th {\n",
              "        vertical-align: top;\n",
              "    }\n",
              "\n",
              "    .dataframe thead th {\n",
              "        text-align: right;\n",
              "    }\n",
              "</style>\n",
              "<table border=\"1\" class=\"dataframe\">\n",
              "  <thead>\n",
              "    <tr style=\"text-align: right;\">\n",
              "      <th></th>\n",
              "      <th>count</th>\n",
              "    </tr>\n",
              "    <tr>\n",
              "      <th>rating</th>\n",
              "      <th></th>\n",
              "    </tr>\n",
              "  </thead>\n",
              "  <tbody>\n",
              "    <tr>\n",
              "      <th>0.5</th>\n",
              "      <td>1370</td>\n",
              "    </tr>\n",
              "    <tr>\n",
              "      <th>1.0</th>\n",
              "      <td>2811</td>\n",
              "    </tr>\n",
              "    <tr>\n",
              "      <th>1.5</th>\n",
              "      <td>1791</td>\n",
              "    </tr>\n",
              "    <tr>\n",
              "      <th>2.0</th>\n",
              "      <td>7551</td>\n",
              "    </tr>\n",
              "    <tr>\n",
              "      <th>2.5</th>\n",
              "      <td>5550</td>\n",
              "    </tr>\n",
              "    <tr>\n",
              "      <th>3.0</th>\n",
              "      <td>20047</td>\n",
              "    </tr>\n",
              "    <tr>\n",
              "      <th>3.5</th>\n",
              "      <td>13136</td>\n",
              "    </tr>\n",
              "    <tr>\n",
              "      <th>4.0</th>\n",
              "      <td>26818</td>\n",
              "    </tr>\n",
              "    <tr>\n",
              "      <th>4.5</th>\n",
              "      <td>8551</td>\n",
              "    </tr>\n",
              "    <tr>\n",
              "      <th>5.0</th>\n",
              "      <td>13211</td>\n",
              "    </tr>\n",
              "  </tbody>\n",
              "</table>\n",
              "</div>"
            ],
            "text/plain": [
              "        count\n",
              "rating       \n",
              "0.5      1370\n",
              "1.0      2811\n",
              "1.5      1791\n",
              "2.0      7551\n",
              "2.5      5550\n",
              "3.0     20047\n",
              "3.5     13136\n",
              "4.0     26818\n",
              "4.5      8551\n",
              "5.0     13211"
            ]
          },
          "metadata": {
            "tags": []
          },
          "execution_count": 57
        }
      ]
    },
    {
      "cell_type": "code",
      "metadata": {
        "id": "mT35sBvYmP6o",
        "colab": {
          "base_uri": "https://localhost:8080/",
          "height": 390
        },
        "outputId": "04c0e2c5-2b18-4de8-e7f4-6ae166625fec"
      },
      "source": [
        " # there should be a lot more counts in rating of zero\n",
        "total_count = n_users * n_items\n",
        "rating_zero_count = total_count - df_ratings.shape[0]\n",
        "# append counts of zero rating to df_ratings_cnt\n",
        "df_ratings_count = df_ratings_count.append(\n",
        "    pd.DataFrame({'count': rating_zero_count}, index=[0.0]),\n",
        "    verify_integrity=True,\n",
        ").sort_index()\n",
        "df_ratings_count"
      ],
      "execution_count": null,
      "outputs": [
        {
          "output_type": "execute_result",
          "data": {
            "text/html": [
              "<div>\n",
              "<style scoped>\n",
              "    .dataframe tbody tr th:only-of-type {\n",
              "        vertical-align: middle;\n",
              "    }\n",
              "\n",
              "    .dataframe tbody tr th {\n",
              "        vertical-align: top;\n",
              "    }\n",
              "\n",
              "    .dataframe thead th {\n",
              "        text-align: right;\n",
              "    }\n",
              "</style>\n",
              "<table border=\"1\" class=\"dataframe\">\n",
              "  <thead>\n",
              "    <tr style=\"text-align: right;\">\n",
              "      <th></th>\n",
              "      <th>count</th>\n",
              "    </tr>\n",
              "  </thead>\n",
              "  <tbody>\n",
              "    <tr>\n",
              "      <th>0.0</th>\n",
              "      <td>5830804</td>\n",
              "    </tr>\n",
              "    <tr>\n",
              "      <th>0.5</th>\n",
              "      <td>1370</td>\n",
              "    </tr>\n",
              "    <tr>\n",
              "      <th>1.0</th>\n",
              "      <td>2811</td>\n",
              "    </tr>\n",
              "    <tr>\n",
              "      <th>1.5</th>\n",
              "      <td>1791</td>\n",
              "    </tr>\n",
              "    <tr>\n",
              "      <th>2.0</th>\n",
              "      <td>7551</td>\n",
              "    </tr>\n",
              "    <tr>\n",
              "      <th>2.5</th>\n",
              "      <td>5550</td>\n",
              "    </tr>\n",
              "    <tr>\n",
              "      <th>3.0</th>\n",
              "      <td>20047</td>\n",
              "    </tr>\n",
              "    <tr>\n",
              "      <th>3.5</th>\n",
              "      <td>13136</td>\n",
              "    </tr>\n",
              "    <tr>\n",
              "      <th>4.0</th>\n",
              "      <td>26818</td>\n",
              "    </tr>\n",
              "    <tr>\n",
              "      <th>4.5</th>\n",
              "      <td>8551</td>\n",
              "    </tr>\n",
              "    <tr>\n",
              "      <th>5.0</th>\n",
              "      <td>13211</td>\n",
              "    </tr>\n",
              "  </tbody>\n",
              "</table>\n",
              "</div>"
            ],
            "text/plain": [
              "       count\n",
              "0.0  5830804\n",
              "0.5     1370\n",
              "1.0     2811\n",
              "1.5     1791\n",
              "2.0     7551\n",
              "2.5     5550\n",
              "3.0    20047\n",
              "3.5    13136\n",
              "4.0    26818\n",
              "4.5     8551\n",
              "5.0    13211"
            ]
          },
          "metadata": {
            "tags": []
          },
          "execution_count": 58
        }
      ]
    },
    {
      "cell_type": "code",
      "metadata": {
        "id": "83YiWiJXnkmS",
        "colab": {
          "base_uri": "https://localhost:8080/",
          "height": 390
        },
        "outputId": "edd9057e-7a04-442c-9644-324b9fba75ca"
      },
      "source": [
        "# Since the count is so different across ratings, we can add a log count to it\n",
        "df_ratings_count['log_count'] = np.log(df_ratings_count['count'])\n",
        "df_ratings_count"
      ],
      "execution_count": null,
      "outputs": [
        {
          "output_type": "execute_result",
          "data": {
            "text/html": [
              "<div>\n",
              "<style scoped>\n",
              "    .dataframe tbody tr th:only-of-type {\n",
              "        vertical-align: middle;\n",
              "    }\n",
              "\n",
              "    .dataframe tbody tr th {\n",
              "        vertical-align: top;\n",
              "    }\n",
              "\n",
              "    .dataframe thead th {\n",
              "        text-align: right;\n",
              "    }\n",
              "</style>\n",
              "<table border=\"1\" class=\"dataframe\">\n",
              "  <thead>\n",
              "    <tr style=\"text-align: right;\">\n",
              "      <th></th>\n",
              "      <th>count</th>\n",
              "      <th>log_count</th>\n",
              "    </tr>\n",
              "  </thead>\n",
              "  <tbody>\n",
              "    <tr>\n",
              "      <th>0.0</th>\n",
              "      <td>5830804</td>\n",
              "      <td>15.578665</td>\n",
              "    </tr>\n",
              "    <tr>\n",
              "      <th>0.5</th>\n",
              "      <td>1370</td>\n",
              "      <td>7.222566</td>\n",
              "    </tr>\n",
              "    <tr>\n",
              "      <th>1.0</th>\n",
              "      <td>2811</td>\n",
              "      <td>7.941296</td>\n",
              "    </tr>\n",
              "    <tr>\n",
              "      <th>1.5</th>\n",
              "      <td>1791</td>\n",
              "      <td>7.490529</td>\n",
              "    </tr>\n",
              "    <tr>\n",
              "      <th>2.0</th>\n",
              "      <td>7551</td>\n",
              "      <td>8.929435</td>\n",
              "    </tr>\n",
              "    <tr>\n",
              "      <th>2.5</th>\n",
              "      <td>5550</td>\n",
              "      <td>8.621553</td>\n",
              "    </tr>\n",
              "    <tr>\n",
              "      <th>3.0</th>\n",
              "      <td>20047</td>\n",
              "      <td>9.905835</td>\n",
              "    </tr>\n",
              "    <tr>\n",
              "      <th>3.5</th>\n",
              "      <td>13136</td>\n",
              "      <td>9.483112</td>\n",
              "    </tr>\n",
              "    <tr>\n",
              "      <th>4.0</th>\n",
              "      <td>26818</td>\n",
              "      <td>10.196829</td>\n",
              "    </tr>\n",
              "    <tr>\n",
              "      <th>4.5</th>\n",
              "      <td>8551</td>\n",
              "      <td>9.053804</td>\n",
              "    </tr>\n",
              "    <tr>\n",
              "      <th>5.0</th>\n",
              "      <td>13211</td>\n",
              "      <td>9.488805</td>\n",
              "    </tr>\n",
              "  </tbody>\n",
              "</table>\n",
              "</div>"
            ],
            "text/plain": [
              "       count  log_count\n",
              "0.0  5830804  15.578665\n",
              "0.5     1370   7.222566\n",
              "1.0     2811   7.941296\n",
              "1.5     1791   7.490529\n",
              "2.0     7551   8.929435\n",
              "2.5     5550   8.621553\n",
              "3.0    20047   9.905835\n",
              "3.5    13136   9.483112\n",
              "4.0    26818  10.196829\n",
              "4.5     8551   9.053804\n",
              "5.0    13211   9.488805"
            ]
          },
          "metadata": {
            "tags": []
          },
          "execution_count": 59
        }
      ]
    },
    {
      "cell_type": "markdown",
      "metadata": {
        "id": "mo8H-lONrQaz"
      },
      "source": [
        "### Visulization of the Datase"
      ]
    },
    {
      "cell_type": "code",
      "metadata": {
        "id": "2uikV1USn9_i",
        "colab": {
          "base_uri": "https://localhost:8080/",
          "height": 539
        },
        "outputId": "e48de115-c266-4eef-ec3c-2962a1ff45b8"
      },
      "source": [
        "#rating counts vs. rating score chart\n",
        "ax = df_ratings_count[['count']].reset_index().rename(columns={'index': 'rating score'}).plot(\n",
        "    x='rating score',\n",
        "    y='count',\n",
        "    kind='bar',\n",
        "    figsize=(12, 8),\n",
        "    title='Count for Each Rating Score (in Log Scale)',\n",
        "    logy=True,\n",
        "    fontsize=12,\n",
        ")\n",
        "ax.set_xlabel(\"movie rating score\")\n",
        "ax.set_ylabel(\"number of ratings\")"
      ],
      "execution_count": null,
      "outputs": [
        {
          "output_type": "execute_result",
          "data": {
            "text/plain": [
              "Text(0, 0.5, 'number of ratings')"
            ]
          },
          "metadata": {
            "tags": []
          },
          "execution_count": 60
        },
        {
          "output_type": "display_data",
          "data": {
            "image/png": "[encoded data removed]",
            "text/plain": [
              "<Figure size 864x576 with 1 Axes>"
            ]
          },
          "metadata": {
            "tags": []
          }
        }
      ]
    },
    {
      "cell_type": "code",
      "metadata": {
        "id": "jc7iX1pSoOa5",
        "colab": {
          "base_uri": "https://localhost:8080/",
          "height": 533
        },
        "outputId": "ac07d01b-38bb-45fd-d0af-acaf767f0ac3"
      },
      "source": [
        "# Rating frequency\n",
        "df_movies_count = pd.DataFrame(df_ratings.groupby('movieId').size(), columns=['count'])\n",
        "df_movies_count.head()\n",
        "\n",
        "# plot rating frequency of all movies\n",
        "ax = df_movies_count \\\n",
        "    .sort_values('count', ascending=False) \\\n",
        "    .reset_index(drop=True) \\\n",
        "    .plot(\n",
        "        figsize=(12, 8),\n",
        "        title='Rating Frequency of All Movies',\n",
        "        fontsize=12\n",
        "    )\n",
        "ax.set_xlabel(\"movie Id\")\n",
        "ax.set_ylabel(\"number of ratings\")"
      ],
      "execution_count": null,
      "outputs": [
        {
          "output_type": "execute_result",
          "data": {
            "text/plain": [
              "Text(0, 0.5, 'number of ratings')"
            ]
          },
          "metadata": {
            "tags": []
          },
          "execution_count": 61
        },
        {
          "output_type": "display_data",
          "data": {
            "image/png": "[encoded data removed]",
            "text/plain": [
              "<Figure size 864x576 with 1 Axes>"
            ]
          },
          "metadata": {
            "tags": []
          }
        }
      ]
    },
    {
      "cell_type": "code",
      "metadata": {
        "id": "O-gsGrHaphCv",
        "colab": {
          "base_uri": "https://localhost:8080/",
          "height": 1000
        },
        "outputId": "16b2095e-ab43-4661-f4a7-6eebef4034a1"
      },
      "source": [
        "#scatter plot of rating score and rating counts\n",
        "%matplotlib inline\n",
        "\n",
        "plt.figure(figsize=(8,6))\n",
        "plt.rcParams['patch.force_edgecolor'] = True\n",
        "df_movie_ratings_count['rating_counts'].hist(bins=50)\n",
        "\n",
        "plt.figure(figsize=(8,6))\n",
        "df_movie_ratings_count['rating'].hist(bins=50)\n",
        "\n",
        "sns.jointplot(x='rating', y='rating_counts', data=df_movie_ratings_count, alpha=0.4)"
      ],
      "execution_count": null,
      "outputs": [
        {
          "output_type": "execute_result",
          "data": {
            "text/plain": [
              "<seaborn.axisgrid.JointGrid at 0x7f997d32a828>"
            ]
          },
          "metadata": {
            "tags": []
          },
          "execution_count": 62
        },
        {
          "output_type": "display_data",
          "data": {
            "image/png": "[encoded data removed]",
            "text/plain": [
              "<Figure size 576x432 with 1 Axes>"
            ]
          },
          "metadata": {
            "tags": []
          }
        },
        {
          "output_type": "display_data",
          "data": {
            "image/png": "[encoded data removed]",
            "text/plain": [
              "<Figure size 576x432 with 1 Axes>"
            ]
          },
          "metadata": {
            "tags": []
          }
        },
        {
          "output_type": "display_data",
          "data": {
            "image/png": "[encoded data removed]",
            "text/plain": [
              "<Figure size 432x432 with 3 Axes>"
            ]
          },
          "metadata": {
            "tags": []
          }
        }
      ]
    },
    {
      "cell_type": "markdown",
      "metadata": {
        "id": "PnYAVxs7rfvw"
      },
      "source": [
        "# Memory based Recommender"
      ]
    },
    {
      "cell_type": "markdown",
      "metadata": {
        "id": "pLbisOV3VBdk"
      },
      "source": [
        "First, I will use the correlation between the ratings of a movie as the similarity metric. To find the correlation between the ratings of the movie, I need to create a matrix where each column is a movie name and each row contains the rating assigned by a specific user to that movie. However, this matrix will also have a lot of null values since every movie is not rated by every user."
      ]
    },
    {
      "cell_type": "code",
      "metadata": {
        "id": "ltf1VCc1rnBQ",
        "colab": {
          "base_uri": "https://localhost:8080/",
          "height": 454
        },
        "outputId": "b3428ece-e89d-475d-e9db-14e3664bc7b0"
      },
      "source": [
        "# create the pivot table\n",
        "df_user_movie_rating = df_full_movie.pivot_table(index='userId', columns='title', values='rating')\n",
        "df_user_movie_rating.head()"
      ],
      "execution_count": null,
      "outputs": [
        {
          "output_type": "execute_result",
          "data": {
            "text/html": [
              "<div>\n",
              "<style scoped>\n",
              "    .dataframe tbody tr th:only-of-type {\n",
              "        vertical-align: middle;\n",
              "    }\n",
              "\n",
              "    .dataframe tbody tr th {\n",
              "        vertical-align: top;\n",
              "    }\n",
              "\n",
              "    .dataframe thead th {\n",
              "        text-align: right;\n",
              "    }\n",
              "</style>\n",
              "<table border=\"1\" class=\"dataframe\">\n",
              "  <thead>\n",
              "    <tr style=\"text-align: right;\">\n",
              "      <th>title</th>\n",
              "      <th>'71 (2014)</th>\n",
              "      <th>'Hellboy': The Seeds of Creation (2004)</th>\n",
              "      <th>'Round Midnight (1986)</th>\n",
              "      <th>'Salem's Lot (2004)</th>\n",
              "      <th>'Til There Was You (1997)</th>\n",
              "      <th>'Tis the Season for Love (2015)</th>\n",
              "      <th>'burbs, The (1989)</th>\n",
              "      <th>'night Mother (1986)</th>\n",
              "      <th>(500) Days of Summer (2009)</th>\n",
              "      <th>*batteries not included (1987)</th>\n",
              "      <th>...All the Marbles (1981)</th>\n",
              "      <th>...And Justice for All (1979)</th>\n",
              "      <th>00 Schneider - Jagd auf Nihil Baxter (1994)</th>\n",
              "      <th>1-900 (06) (1994)</th>\n",
              "      <th>10 (1979)</th>\n",
              "      <th>10 Cent Pistol (2015)</th>\n",
              "      <th>10 Cloverfield Lane (2016)</th>\n",
              "      <th>10 Items or Less (2006)</th>\n",
              "      <th>10 Things I Hate About You (1999)</th>\n",
              "      <th>10 Years (2011)</th>\n",
              "      <th>10,000 BC (2008)</th>\n",
              "      <th>100 Girls (2000)</th>\n",
              "      <th>100 Streets (2016)</th>\n",
              "      <th>101 Dalmatians (1996)</th>\n",
              "      <th>101 Dalmatians (One Hundred and One Dalmatians) (1961)</th>\n",
              "      <th>101 Dalmatians II: Patch's London Adventure (2003)</th>\n",
              "      <th>101 Reykjavik (101 Reykjavík) (2000)</th>\n",
              "      <th>102 Dalmatians (2000)</th>\n",
              "      <th>10th &amp; Wolf (2006)</th>\n",
              "      <th>10th Kingdom, The (2000)</th>\n",
              "      <th>10th Victim, The (La decima vittima) (1965)</th>\n",
              "      <th>11'09\"01 - September 11 (2002)</th>\n",
              "      <th>11:14 (2003)</th>\n",
              "      <th>11th Hour, The (2007)</th>\n",
              "      <th>12 Angry Men (1957)</th>\n",
              "      <th>12 Angry Men (1997)</th>\n",
              "      <th>12 Chairs (1971)</th>\n",
              "      <th>12 Chairs (1976)</th>\n",
              "      <th>12 Rounds (2009)</th>\n",
              "      <th>12 Years a Slave (2013)</th>\n",
              "      <th>...</th>\n",
              "      <th>Zathura (2005)</th>\n",
              "      <th>Zatoichi and the Chest of Gold (Zatôichi senryô-kubi) (Zatôichi 6) (1964)</th>\n",
              "      <th>Zazie dans le métro (1960)</th>\n",
              "      <th>Zebraman (2004)</th>\n",
              "      <th>Zed &amp; Two Noughts, A (1985)</th>\n",
              "      <th>Zeitgeist: Addendum (2008)</th>\n",
              "      <th>Zeitgeist: Moving Forward (2011)</th>\n",
              "      <th>Zeitgeist: The Movie (2007)</th>\n",
              "      <th>Zelary (2003)</th>\n",
              "      <th>Zelig (1983)</th>\n",
              "      <th>Zero Dark Thirty (2012)</th>\n",
              "      <th>Zero Effect (1998)</th>\n",
              "      <th>Zero Theorem, The (2013)</th>\n",
              "      <th>Zero de conduite (Zero for Conduct) (Zéro de conduite: Jeunes diables au collège) (1933)</th>\n",
              "      <th>Zeus and Roxanne (1997)</th>\n",
              "      <th>Zipper (2015)</th>\n",
              "      <th>Zodiac (2007)</th>\n",
              "      <th>Zombeavers (2014)</th>\n",
              "      <th>Zombie (a.k.a. Zombie 2: The Dead Are Among Us) (Zombi 2) (1979)</th>\n",
              "      <th>Zombie Strippers! (2008)</th>\n",
              "      <th>Zombieland (2009)</th>\n",
              "      <th>Zone 39 (1997)</th>\n",
              "      <th>Zone, The (La Zona) (2007)</th>\n",
              "      <th>Zookeeper (2011)</th>\n",
              "      <th>Zoolander (2001)</th>\n",
              "      <th>Zoolander 2 (2016)</th>\n",
              "      <th>Zoom (2006)</th>\n",
              "      <th>Zoom (2015)</th>\n",
              "      <th>Zootopia (2016)</th>\n",
              "      <th>Zulu (1964)</th>\n",
              "      <th>Zulu (2013)</th>\n",
              "      <th>[REC] (2007)</th>\n",
              "      <th>[REC]² (2009)</th>\n",
              "      <th>[REC]³ 3 Génesis (2012)</th>\n",
              "      <th>anohana: The Flower We Saw That Day - The Movie (2013)</th>\n",
              "      <th>eXistenZ (1999)</th>\n",
              "      <th>xXx (2002)</th>\n",
              "      <th>xXx: State of the Union (2005)</th>\n",
              "      <th>¡Three Amigos! (1986)</th>\n",
              "      <th>À nous la liberté (Freedom for Us) (1931)</th>\n",
              "    </tr>\n",
              "    <tr>\n",
              "      <th>userId</th>\n",
              "      <th></th>\n",
              "      <th></th>\n",
              "      <th></th>\n",
              "      <th></th>\n",
              "      <th></th>\n",
              "      <th></th>\n",
              "      <th></th>\n",
              "      <th></th>\n",
              "      <th></th>\n",
              "      <th></th>\n",
              "      <th></th>\n",
              "      <th></th>\n",
              "      <th></th>\n",
              "      <th></th>\n",
              "      <th></th>\n",
              "      <th></th>\n",
              "      <th></th>\n",
              "      <th></th>\n",
              "      <th></th>\n",
              "      <th></th>\n",
              "      <th></th>\n",
              "      <th></th>\n",
              "      <th></th>\n",
              "      <th></th>\n",
              "      <th></th>\n",
              "      <th></th>\n",
              "      <th></th>\n",
              "      <th></th>\n",
              "      <th></th>\n",
              "      <th></th>\n",
              "      <th></th>\n",
              "      <th></th>\n",
              "      <th></th>\n",
              "      <th></th>\n",
              "      <th></th>\n",
              "      <th></th>\n",
              "      <th></th>\n",
              "      <th></th>\n",
              "      <th></th>\n",
              "      <th></th>\n",
              "      <th></th>\n",
              "      <th></th>\n",
              "      <th></th>\n",
              "      <th></th>\n",
              "      <th></th>\n",
              "      <th></th>\n",
              "      <th></th>\n",
              "      <th></th>\n",
              "      <th></th>\n",
              "      <th></th>\n",
              "      <th></th>\n",
              "      <th></th>\n",
              "      <th></th>\n",
              "      <th></th>\n",
              "      <th></th>\n",
              "      <th></th>\n",
              "      <th></th>\n",
              "      <th></th>\n",
              "      <th></th>\n",
              "      <th></th>\n",
              "      <th></th>\n",
              "      <th></th>\n",
              "      <th></th>\n",
              "      <th></th>\n",
              "      <th></th>\n",
              "      <th></th>\n",
              "      <th></th>\n",
              "      <th></th>\n",
              "      <th></th>\n",
              "      <th></th>\n",
              "      <th></th>\n",
              "      <th></th>\n",
              "      <th></th>\n",
              "      <th></th>\n",
              "      <th></th>\n",
              "      <th></th>\n",
              "      <th></th>\n",
              "      <th></th>\n",
              "      <th></th>\n",
              "      <th></th>\n",
              "      <th></th>\n",
              "    </tr>\n",
              "  </thead>\n",
              "  <tbody>\n",
              "    <tr>\n",
              "      <th>1</th>\n",
              "      <td>NaN</td>\n",
              "      <td>NaN</td>\n",
              "      <td>NaN</td>\n",
              "      <td>NaN</td>\n",
              "      <td>NaN</td>\n",
              "      <td>NaN</td>\n",
              "      <td>NaN</td>\n",
              "      <td>NaN</td>\n",
              "      <td>NaN</td>\n",
              "      <td>NaN</td>\n",
              "      <td>NaN</td>\n",
              "      <td>NaN</td>\n",
              "      <td>NaN</td>\n",
              "      <td>NaN</td>\n",
              "      <td>NaN</td>\n",
              "      <td>NaN</td>\n",
              "      <td>NaN</td>\n",
              "      <td>NaN</td>\n",
              "      <td>NaN</td>\n",
              "      <td>NaN</td>\n",
              "      <td>NaN</td>\n",
              "      <td>NaN</td>\n",
              "      <td>NaN</td>\n",
              "      <td>NaN</td>\n",
              "      <td>NaN</td>\n",
              "      <td>NaN</td>\n",
              "      <td>NaN</td>\n",
              "      <td>NaN</td>\n",
              "      <td>NaN</td>\n",
              "      <td>NaN</td>\n",
              "      <td>NaN</td>\n",
              "      <td>NaN</td>\n",
              "      <td>NaN</td>\n",
              "      <td>NaN</td>\n",
              "      <td>NaN</td>\n",
              "      <td>NaN</td>\n",
              "      <td>NaN</td>\n",
              "      <td>NaN</td>\n",
              "      <td>NaN</td>\n",
              "      <td>NaN</td>\n",
              "      <td>...</td>\n",
              "      <td>NaN</td>\n",
              "      <td>NaN</td>\n",
              "      <td>NaN</td>\n",
              "      <td>NaN</td>\n",
              "      <td>NaN</td>\n",
              "      <td>NaN</td>\n",
              "      <td>NaN</td>\n",
              "      <td>NaN</td>\n",
              "      <td>NaN</td>\n",
              "      <td>NaN</td>\n",
              "      <td>NaN</td>\n",
              "      <td>NaN</td>\n",
              "      <td>NaN</td>\n",
              "      <td>NaN</td>\n",
              "      <td>NaN</td>\n",
              "      <td>NaN</td>\n",
              "      <td>NaN</td>\n",
              "      <td>NaN</td>\n",
              "      <td>NaN</td>\n",
              "      <td>NaN</td>\n",
              "      <td>NaN</td>\n",
              "      <td>NaN</td>\n",
              "      <td>NaN</td>\n",
              "      <td>NaN</td>\n",
              "      <td>NaN</td>\n",
              "      <td>NaN</td>\n",
              "      <td>NaN</td>\n",
              "      <td>NaN</td>\n",
              "      <td>NaN</td>\n",
              "      <td>NaN</td>\n",
              "      <td>NaN</td>\n",
              "      <td>NaN</td>\n",
              "      <td>NaN</td>\n",
              "      <td>NaN</td>\n",
              "      <td>NaN</td>\n",
              "      <td>NaN</td>\n",
              "      <td>NaN</td>\n",
              "      <td>NaN</td>\n",
              "      <td>4.0</td>\n",
              "      <td>NaN</td>\n",
              "    </tr>\n",
              "    <tr>\n",
              "      <th>2</th>\n",
              "      <td>NaN</td>\n",
              "      <td>NaN</td>\n",
              "      <td>NaN</td>\n",
              "      <td>NaN</td>\n",
              "      <td>NaN</td>\n",
              "      <td>NaN</td>\n",
              "      <td>NaN</td>\n",
              "      <td>NaN</td>\n",
              "      <td>NaN</td>\n",
              "      <td>NaN</td>\n",
              "      <td>NaN</td>\n",
              "      <td>NaN</td>\n",
              "      <td>NaN</td>\n",
              "      <td>NaN</td>\n",
              "      <td>NaN</td>\n",
              "      <td>NaN</td>\n",
              "      <td>NaN</td>\n",
              "      <td>NaN</td>\n",
              "      <td>NaN</td>\n",
              "      <td>NaN</td>\n",
              "      <td>NaN</td>\n",
              "      <td>NaN</td>\n",
              "      <td>NaN</td>\n",
              "      <td>NaN</td>\n",
              "      <td>NaN</td>\n",
              "      <td>NaN</td>\n",
              "      <td>NaN</td>\n",
              "      <td>NaN</td>\n",
              "      <td>NaN</td>\n",
              "      <td>NaN</td>\n",
              "      <td>NaN</td>\n",
              "      <td>NaN</td>\n",
              "      <td>NaN</td>\n",
              "      <td>NaN</td>\n",
              "      <td>NaN</td>\n",
              "      <td>NaN</td>\n",
              "      <td>NaN</td>\n",
              "      <td>NaN</td>\n",
              "      <td>NaN</td>\n",
              "      <td>NaN</td>\n",
              "      <td>...</td>\n",
              "      <td>NaN</td>\n",
              "      <td>NaN</td>\n",
              "      <td>NaN</td>\n",
              "      <td>NaN</td>\n",
              "      <td>NaN</td>\n",
              "      <td>NaN</td>\n",
              "      <td>NaN</td>\n",
              "      <td>NaN</td>\n",
              "      <td>NaN</td>\n",
              "      <td>NaN</td>\n",
              "      <td>NaN</td>\n",
              "      <td>NaN</td>\n",
              "      <td>NaN</td>\n",
              "      <td>NaN</td>\n",
              "      <td>NaN</td>\n",
              "      <td>NaN</td>\n",
              "      <td>NaN</td>\n",
              "      <td>NaN</td>\n",
              "      <td>NaN</td>\n",
              "      <td>NaN</td>\n",
              "      <td>3.0</td>\n",
              "      <td>NaN</td>\n",
              "      <td>NaN</td>\n",
              "      <td>NaN</td>\n",
              "      <td>NaN</td>\n",
              "      <td>NaN</td>\n",
              "      <td>NaN</td>\n",
              "      <td>NaN</td>\n",
              "      <td>NaN</td>\n",
              "      <td>NaN</td>\n",
              "      <td>NaN</td>\n",
              "      <td>NaN</td>\n",
              "      <td>NaN</td>\n",
              "      <td>NaN</td>\n",
              "      <td>NaN</td>\n",
              "      <td>NaN</td>\n",
              "      <td>NaN</td>\n",
              "      <td>NaN</td>\n",
              "      <td>NaN</td>\n",
              "      <td>NaN</td>\n",
              "    </tr>\n",
              "    <tr>\n",
              "      <th>3</th>\n",
              "      <td>NaN</td>\n",
              "      <td>NaN</td>\n",
              "      <td>NaN</td>\n",
              "      <td>NaN</td>\n",
              "      <td>NaN</td>\n",
              "      <td>NaN</td>\n",
              "      <td>NaN</td>\n",
              "      <td>NaN</td>\n",
              "      <td>NaN</td>\n",
              "      <td>NaN</td>\n",
              "      <td>NaN</td>\n",
              "      <td>NaN</td>\n",
              "      <td>NaN</td>\n",
              "      <td>NaN</td>\n",
              "      <td>NaN</td>\n",
              "      <td>NaN</td>\n",
              "      <td>NaN</td>\n",
              "      <td>NaN</td>\n",
              "      <td>NaN</td>\n",
              "      <td>NaN</td>\n",
              "      <td>NaN</td>\n",
              "      <td>NaN</td>\n",
              "      <td>NaN</td>\n",
              "      <td>NaN</td>\n",
              "      <td>NaN</td>\n",
              "      <td>NaN</td>\n",
              "      <td>NaN</td>\n",
              "      <td>NaN</td>\n",
              "      <td>NaN</td>\n",
              "      <td>NaN</td>\n",
              "      <td>NaN</td>\n",
              "      <td>NaN</td>\n",
              "      <td>NaN</td>\n",
              "      <td>NaN</td>\n",
              "      <td>NaN</td>\n",
              "      <td>NaN</td>\n",
              "      <td>NaN</td>\n",
              "      <td>NaN</td>\n",
              "      <td>NaN</td>\n",
              "      <td>NaN</td>\n",
              "      <td>...</td>\n",
              "      <td>NaN</td>\n",
              "      <td>NaN</td>\n",
              "      <td>NaN</td>\n",
              "      <td>NaN</td>\n",
              "      <td>NaN</td>\n",
              "      <td>NaN</td>\n",
              "      <td>NaN</td>\n",
              "      <td>NaN</td>\n",
              "      <td>NaN</td>\n",
              "      <td>NaN</td>\n",
              "      <td>NaN</td>\n",
              "      <td>NaN</td>\n",
              "      <td>NaN</td>\n",
              "      <td>NaN</td>\n",
              "      <td>NaN</td>\n",
              "      <td>NaN</td>\n",
              "      <td>NaN</td>\n",
              "      <td>NaN</td>\n",
              "      <td>NaN</td>\n",
              "      <td>NaN</td>\n",
              "      <td>NaN</td>\n",
              "      <td>NaN</td>\n",
              "      <td>NaN</td>\n",
              "      <td>NaN</td>\n",
              "      <td>NaN</td>\n",
              "      <td>NaN</td>\n",
              "      <td>NaN</td>\n",
              "      <td>NaN</td>\n",
              "      <td>NaN</td>\n",
              "      <td>NaN</td>\n",
              "      <td>NaN</td>\n",
              "      <td>NaN</td>\n",
              "      <td>NaN</td>\n",
              "      <td>NaN</td>\n",
              "      <td>NaN</td>\n",
              "      <td>NaN</td>\n",
              "      <td>NaN</td>\n",
              "      <td>NaN</td>\n",
              "      <td>NaN</td>\n",
              "      <td>NaN</td>\n",
              "    </tr>\n",
              "    <tr>\n",
              "      <th>4</th>\n",
              "      <td>NaN</td>\n",
              "      <td>NaN</td>\n",
              "      <td>NaN</td>\n",
              "      <td>NaN</td>\n",
              "      <td>NaN</td>\n",
              "      <td>NaN</td>\n",
              "      <td>NaN</td>\n",
              "      <td>NaN</td>\n",
              "      <td>NaN</td>\n",
              "      <td>NaN</td>\n",
              "      <td>NaN</td>\n",
              "      <td>NaN</td>\n",
              "      <td>NaN</td>\n",
              "      <td>NaN</td>\n",
              "      <td>NaN</td>\n",
              "      <td>NaN</td>\n",
              "      <td>NaN</td>\n",
              "      <td>NaN</td>\n",
              "      <td>NaN</td>\n",
              "      <td>NaN</td>\n",
              "      <td>NaN</td>\n",
              "      <td>NaN</td>\n",
              "      <td>NaN</td>\n",
              "      <td>NaN</td>\n",
              "      <td>NaN</td>\n",
              "      <td>NaN</td>\n",
              "      <td>NaN</td>\n",
              "      <td>NaN</td>\n",
              "      <td>NaN</td>\n",
              "      <td>NaN</td>\n",
              "      <td>NaN</td>\n",
              "      <td>NaN</td>\n",
              "      <td>NaN</td>\n",
              "      <td>NaN</td>\n",
              "      <td>5.0</td>\n",
              "      <td>NaN</td>\n",
              "      <td>NaN</td>\n",
              "      <td>NaN</td>\n",
              "      <td>NaN</td>\n",
              "      <td>NaN</td>\n",
              "      <td>...</td>\n",
              "      <td>NaN</td>\n",
              "      <td>NaN</td>\n",
              "      <td>NaN</td>\n",
              "      <td>NaN</td>\n",
              "      <td>NaN</td>\n",
              "      <td>NaN</td>\n",
              "      <td>NaN</td>\n",
              "      <td>NaN</td>\n",
              "      <td>NaN</td>\n",
              "      <td>NaN</td>\n",
              "      <td>NaN</td>\n",
              "      <td>NaN</td>\n",
              "      <td>NaN</td>\n",
              "      <td>NaN</td>\n",
              "      <td>NaN</td>\n",
              "      <td>NaN</td>\n",
              "      <td>NaN</td>\n",
              "      <td>NaN</td>\n",
              "      <td>NaN</td>\n",
              "      <td>NaN</td>\n",
              "      <td>NaN</td>\n",
              "      <td>NaN</td>\n",
              "      <td>NaN</td>\n",
              "      <td>NaN</td>\n",
              "      <td>NaN</td>\n",
              "      <td>NaN</td>\n",
              "      <td>NaN</td>\n",
              "      <td>NaN</td>\n",
              "      <td>NaN</td>\n",
              "      <td>NaN</td>\n",
              "      <td>NaN</td>\n",
              "      <td>NaN</td>\n",
              "      <td>NaN</td>\n",
              "      <td>NaN</td>\n",
              "      <td>NaN</td>\n",
              "      <td>NaN</td>\n",
              "      <td>NaN</td>\n",
              "      <td>NaN</td>\n",
              "      <td>NaN</td>\n",
              "      <td>NaN</td>\n",
              "    </tr>\n",
              "    <tr>\n",
              "      <th>5</th>\n",
              "      <td>NaN</td>\n",
              "      <td>NaN</td>\n",
              "      <td>NaN</td>\n",
              "      <td>NaN</td>\n",
              "      <td>NaN</td>\n",
              "      <td>NaN</td>\n",
              "      <td>NaN</td>\n",
              "      <td>NaN</td>\n",
              "      <td>NaN</td>\n",
              "      <td>NaN</td>\n",
              "      <td>NaN</td>\n",
              "      <td>NaN</td>\n",
              "      <td>NaN</td>\n",
              "      <td>NaN</td>\n",
              "      <td>NaN</td>\n",
              "      <td>NaN</td>\n",
              "      <td>NaN</td>\n",
              "      <td>NaN</td>\n",
              "      <td>NaN</td>\n",
              "      <td>NaN</td>\n",
              "      <td>NaN</td>\n",
              "      <td>NaN</td>\n",
              "      <td>NaN</td>\n",
              "      <td>NaN</td>\n",
              "      <td>NaN</td>\n",
              "      <td>NaN</td>\n",
              "      <td>NaN</td>\n",
              "      <td>NaN</td>\n",
              "      <td>NaN</td>\n",
              "      <td>NaN</td>\n",
              "      <td>NaN</td>\n",
              "      <td>NaN</td>\n",
              "      <td>NaN</td>\n",
              "      <td>NaN</td>\n",
              "      <td>NaN</td>\n",
              "      <td>NaN</td>\n",
              "      <td>NaN</td>\n",
              "      <td>NaN</td>\n",
              "      <td>NaN</td>\n",
              "      <td>NaN</td>\n",
              "      <td>...</td>\n",
              "      <td>NaN</td>\n",
              "      <td>NaN</td>\n",
              "      <td>NaN</td>\n",
              "      <td>NaN</td>\n",
              "      <td>NaN</td>\n",
              "      <td>NaN</td>\n",
              "      <td>NaN</td>\n",
              "      <td>NaN</td>\n",
              "      <td>NaN</td>\n",
              "      <td>NaN</td>\n",
              "      <td>NaN</td>\n",
              "      <td>NaN</td>\n",
              "      <td>NaN</td>\n",
              "      <td>NaN</td>\n",
              "      <td>NaN</td>\n",
              "      <td>NaN</td>\n",
              "      <td>NaN</td>\n",
              "      <td>NaN</td>\n",
              "      <td>NaN</td>\n",
              "      <td>NaN</td>\n",
              "      <td>NaN</td>\n",
              "      <td>NaN</td>\n",
              "      <td>NaN</td>\n",
              "      <td>NaN</td>\n",
              "      <td>NaN</td>\n",
              "      <td>NaN</td>\n",
              "      <td>NaN</td>\n",
              "      <td>NaN</td>\n",
              "      <td>NaN</td>\n",
              "      <td>NaN</td>\n",
              "      <td>NaN</td>\n",
              "      <td>NaN</td>\n",
              "      <td>NaN</td>\n",
              "      <td>NaN</td>\n",
              "      <td>NaN</td>\n",
              "      <td>NaN</td>\n",
              "      <td>NaN</td>\n",
              "      <td>NaN</td>\n",
              "      <td>NaN</td>\n",
              "      <td>NaN</td>\n",
              "    </tr>\n",
              "  </tbody>\n",
              "</table>\n",
              "<p>5 rows × 9719 columns</p>\n",
              "</div>"
            ],
            "text/plain": [
              "title   '71 (2014)  ...  À nous la liberté (Freedom for Us) (1931)\n",
              "userId              ...                                           \n",
              "1              NaN  ...                                        NaN\n",
              "2              NaN  ...                                        NaN\n",
              "3              NaN  ...                                        NaN\n",
              "4              NaN  ...                                        NaN\n",
              "5              NaN  ...                                        NaN\n",
              "\n",
              "[5 rows x 9719 columns]"
            ]
          },
          "metadata": {
            "tags": []
          },
          "execution_count": 63
        }
      ]
    },
    {
      "cell_type": "code",
      "metadata": {
        "id": "mjJT4kv5s8Yi",
        "colab": {
          "base_uri": "https://localhost:8080/",
          "height": 136
        },
        "outputId": "63c933f6-b64e-4955-c77a-4ae6f1f2a8ff"
      },
      "source": [
        "# For this correlation test, I will use one of my favorite movie \"Forrest Gump.\"\n",
        "forrest_gump_ratings = df_user_movie_rating['Forrest Gump (1994)']\n",
        "forrest_gump_ratings.head()"
      ],
      "execution_count": null,
      "outputs": [
        {
          "output_type": "execute_result",
          "data": {
            "text/plain": [
              "userId\n",
              "1    4.0\n",
              "2    NaN\n",
              "3    NaN\n",
              "4    NaN\n",
              "5    NaN\n",
              "Name: Forrest Gump (1994), dtype: float32"
            ]
          },
          "metadata": {
            "tags": []
          },
          "execution_count": 64
        }
      ]
    },
    {
      "cell_type": "code",
      "metadata": {
        "id": "1xnTHMibtLMJ",
        "colab": {
          "base_uri": "https://localhost:8080/",
          "height": 390
        },
        "outputId": "0b245044-b20f-4010-b6f4-a892d2e12d08"
      },
      "source": [
        "# movies with highest correlated rating score\n",
        "movies_like_forrest_gump = df_user_movie_rating.corrwith(forrest_gump_ratings)\n",
        "\n",
        "corr_forrest_gump = pd.DataFrame(movies_like_forrest_gump, columns=['Correlation'])\n",
        "corr_forrest_gump.dropna(inplace=True)\n",
        "corr_forrest_gump.sort_values('Correlation', ascending=False).head(10)"
      ],
      "execution_count": null,
      "outputs": [
        {
          "output_type": "execute_result",
          "data": {
            "text/html": [
              "<div>\n",
              "<style scoped>\n",
              "    .dataframe tbody tr th:only-of-type {\n",
              "        vertical-align: middle;\n",
              "    }\n",
              "\n",
              "    .dataframe tbody tr th {\n",
              "        vertical-align: top;\n",
              "    }\n",
              "\n",
              "    .dataframe thead th {\n",
              "        text-align: right;\n",
              "    }\n",
              "</style>\n",
              "<table border=\"1\" class=\"dataframe\">\n",
              "  <thead>\n",
              "    <tr style=\"text-align: right;\">\n",
              "      <th></th>\n",
              "      <th>Correlation</th>\n",
              "    </tr>\n",
              "    <tr>\n",
              "      <th>title</th>\n",
              "      <th></th>\n",
              "    </tr>\n",
              "  </thead>\n",
              "  <tbody>\n",
              "    <tr>\n",
              "      <th>Lost &amp; Found (1999)</th>\n",
              "      <td>1.0</td>\n",
              "    </tr>\n",
              "    <tr>\n",
              "      <th>Century of the Self, The (2002)</th>\n",
              "      <td>1.0</td>\n",
              "    </tr>\n",
              "    <tr>\n",
              "      <th>The 5th Wave (2016)</th>\n",
              "      <td>1.0</td>\n",
              "    </tr>\n",
              "    <tr>\n",
              "      <th>Play Time (a.k.a. Playtime) (1967)</th>\n",
              "      <td>1.0</td>\n",
              "    </tr>\n",
              "    <tr>\n",
              "      <th>Memories (Memorîzu) (1995)</th>\n",
              "      <td>1.0</td>\n",
              "    </tr>\n",
              "    <tr>\n",
              "      <th>Playing God (1997)</th>\n",
              "      <td>1.0</td>\n",
              "    </tr>\n",
              "    <tr>\n",
              "      <th>Killers (2010)</th>\n",
              "      <td>1.0</td>\n",
              "    </tr>\n",
              "    <tr>\n",
              "      <th>Girl Walks Home Alone at Night, A (2014)</th>\n",
              "      <td>1.0</td>\n",
              "    </tr>\n",
              "    <tr>\n",
              "      <th>Tampopo (1985)</th>\n",
              "      <td>1.0</td>\n",
              "    </tr>\n",
              "    <tr>\n",
              "      <th>Cercle Rouge, Le (Red Circle, The) (1970)</th>\n",
              "      <td>1.0</td>\n",
              "    </tr>\n",
              "  </tbody>\n",
              "</table>\n",
              "</div>"
            ],
            "text/plain": [
              "                                           Correlation\n",
              "title                                                 \n",
              "Lost & Found (1999)                                1.0\n",
              "Century of the Self, The (2002)                    1.0\n",
              "The 5th Wave (2016)                                1.0\n",
              "Play Time (a.k.a. Playtime) (1967)                 1.0\n",
              "Memories (Memorîzu) (1995)                         1.0\n",
              "Playing God (1997)                                 1.0\n",
              "Killers (2010)                                     1.0\n",
              "Girl Walks Home Alone at Night, A (2014)           1.0\n",
              "Tampopo (1985)                                     1.0\n",
              "Cercle Rouge, Le (Red Circle, The) (1970)          1.0"
            ]
          },
          "metadata": {
            "tags": []
          },
          "execution_count": 65
        }
      ]
    },
    {
      "cell_type": "code",
      "metadata": {
        "id": "eRX9OKCqt_4A",
        "colab": {
          "base_uri": "https://localhost:8080/",
          "height": 235
        },
        "outputId": "21a08894-9d8c-4daa-c795-60400eb5d222"
      },
      "source": [
        "# However, this could be a bit biased especially if a movie has low number of rating counts. To avoid this, we can set a threshold for the rating counts.\n",
        "corr_forrest_gump = corr_forrest_gump.join(df_movie_ratings_count['rating_counts'])\n",
        "corr_forrest_gump.head()"
      ],
      "execution_count": null,
      "outputs": [
        {
          "output_type": "execute_result",
          "data": {
            "text/html": [
              "<div>\n",
              "<style scoped>\n",
              "    .dataframe tbody tr th:only-of-type {\n",
              "        vertical-align: middle;\n",
              "    }\n",
              "\n",
              "    .dataframe tbody tr th {\n",
              "        vertical-align: top;\n",
              "    }\n",
              "\n",
              "    .dataframe thead th {\n",
              "        text-align: right;\n",
              "    }\n",
              "</style>\n",
              "<table border=\"1\" class=\"dataframe\">\n",
              "  <thead>\n",
              "    <tr style=\"text-align: right;\">\n",
              "      <th></th>\n",
              "      <th>Correlation</th>\n",
              "      <th>rating_counts</th>\n",
              "    </tr>\n",
              "    <tr>\n",
              "      <th>title</th>\n",
              "      <th></th>\n",
              "      <th></th>\n",
              "    </tr>\n",
              "  </thead>\n",
              "  <tbody>\n",
              "    <tr>\n",
              "      <th>'burbs, The (1989)</th>\n",
              "      <td>0.197712</td>\n",
              "      <td>17</td>\n",
              "    </tr>\n",
              "    <tr>\n",
              "      <th>(500) Days of Summer (2009)</th>\n",
              "      <td>0.234095</td>\n",
              "      <td>42</td>\n",
              "    </tr>\n",
              "    <tr>\n",
              "      <th>*batteries not included (1987)</th>\n",
              "      <td>0.892710</td>\n",
              "      <td>7</td>\n",
              "    </tr>\n",
              "    <tr>\n",
              "      <th>...And Justice for All (1979)</th>\n",
              "      <td>0.928571</td>\n",
              "      <td>3</td>\n",
              "    </tr>\n",
              "    <tr>\n",
              "      <th>10 Cent Pistol (2015)</th>\n",
              "      <td>-1.000000</td>\n",
              "      <td>2</td>\n",
              "    </tr>\n",
              "  </tbody>\n",
              "</table>\n",
              "</div>"
            ],
            "text/plain": [
              "                                Correlation  rating_counts\n",
              "title                                                     \n",
              "'burbs, The (1989)                 0.197712             17\n",
              "(500) Days of Summer (2009)        0.234095             42\n",
              "*batteries not included (1987)     0.892710              7\n",
              "...And Justice for All (1979)      0.928571              3\n",
              "10 Cent Pistol (2015)             -1.000000              2"
            ]
          },
          "metadata": {
            "tags": []
          },
          "execution_count": 66
        }
      ]
    },
    {
      "cell_type": "code",
      "metadata": {
        "id": "K2inQSfMuTnc",
        "colab": {
          "base_uri": "https://localhost:8080/",
          "height": 700
        },
        "outputId": "237d8ac2-678e-42fa-9326-cdb9b10b50c0"
      },
      "source": [
        "# List of highly correlated movies with at least 70 ratings\n",
        "corr_forrest_gump[corr_forrest_gump['rating_counts']>70].sort_values('Correlation', ascending=False).head(20)"
      ],
      "execution_count": null,
      "outputs": [
        {
          "output_type": "execute_result",
          "data": {
            "text/html": [
              "<div>\n",
              "<style scoped>\n",
              "    .dataframe tbody tr th:only-of-type {\n",
              "        vertical-align: middle;\n",
              "    }\n",
              "\n",
              "    .dataframe tbody tr th {\n",
              "        vertical-align: top;\n",
              "    }\n",
              "\n",
              "    .dataframe thead th {\n",
              "        text-align: right;\n",
              "    }\n",
              "</style>\n",
              "<table border=\"1\" class=\"dataframe\">\n",
              "  <thead>\n",
              "    <tr style=\"text-align: right;\">\n",
              "      <th></th>\n",
              "      <th>Correlation</th>\n",
              "      <th>rating_counts</th>\n",
              "    </tr>\n",
              "    <tr>\n",
              "      <th>title</th>\n",
              "      <th></th>\n",
              "      <th></th>\n",
              "    </tr>\n",
              "  </thead>\n",
              "  <tbody>\n",
              "    <tr>\n",
              "      <th>Forrest Gump (1994)</th>\n",
              "      <td>1.000000</td>\n",
              "      <td>329</td>\n",
              "    </tr>\n",
              "    <tr>\n",
              "      <th>Mr. Holland's Opus (1995)</th>\n",
              "      <td>0.652144</td>\n",
              "      <td>80</td>\n",
              "    </tr>\n",
              "    <tr>\n",
              "      <th>Big (1988)</th>\n",
              "      <td>0.492351</td>\n",
              "      <td>91</td>\n",
              "    </tr>\n",
              "    <tr>\n",
              "      <th>Good Will Hunting (1997)</th>\n",
              "      <td>0.484042</td>\n",
              "      <td>141</td>\n",
              "    </tr>\n",
              "    <tr>\n",
              "      <th>Aladdin (1992)</th>\n",
              "      <td>0.464268</td>\n",
              "      <td>183</td>\n",
              "    </tr>\n",
              "    <tr>\n",
              "      <th>Good, the Bad and the Ugly, The (Buono, il brutto, il cattivo, Il) (1966)</th>\n",
              "      <td>0.461204</td>\n",
              "      <td>72</td>\n",
              "    </tr>\n",
              "    <tr>\n",
              "      <th>American History X (1998)</th>\n",
              "      <td>0.457287</td>\n",
              "      <td>129</td>\n",
              "    </tr>\n",
              "    <tr>\n",
              "      <th>Contact (1997)</th>\n",
              "      <td>0.438597</td>\n",
              "      <td>82</td>\n",
              "    </tr>\n",
              "    <tr>\n",
              "      <th>Truman Show, The (1998)</th>\n",
              "      <td>0.432556</td>\n",
              "      <td>125</td>\n",
              "    </tr>\n",
              "    <tr>\n",
              "      <th>Back to the Future Part II (1989)</th>\n",
              "      <td>0.427619</td>\n",
              "      <td>87</td>\n",
              "    </tr>\n",
              "    <tr>\n",
              "      <th>Who Framed Roger Rabbit? (1988)</th>\n",
              "      <td>0.427384</td>\n",
              "      <td>97</td>\n",
              "    </tr>\n",
              "    <tr>\n",
              "      <th>Ace Ventura: When Nature Calls (1995)</th>\n",
              "      <td>0.421868</td>\n",
              "      <td>88</td>\n",
              "    </tr>\n",
              "    <tr>\n",
              "      <th>Santa Clause, The (1994)</th>\n",
              "      <td>0.417250</td>\n",
              "      <td>81</td>\n",
              "    </tr>\n",
              "    <tr>\n",
              "      <th>Braveheart (1995)</th>\n",
              "      <td>0.416976</td>\n",
              "      <td>237</td>\n",
              "    </tr>\n",
              "    <tr>\n",
              "      <th>Ferris Bueller's Day Off (1986)</th>\n",
              "      <td>0.405830</td>\n",
              "      <td>109</td>\n",
              "    </tr>\n",
              "    <tr>\n",
              "      <th>Top Gun (1986)</th>\n",
              "      <td>0.405119</td>\n",
              "      <td>83</td>\n",
              "    </tr>\n",
              "    <tr>\n",
              "      <th>Mrs. Doubtfire (1993)</th>\n",
              "      <td>0.401408</td>\n",
              "      <td>144</td>\n",
              "    </tr>\n",
              "    <tr>\n",
              "      <th>Full Metal Jacket (1987)</th>\n",
              "      <td>0.397241</td>\n",
              "      <td>102</td>\n",
              "    </tr>\n",
              "    <tr>\n",
              "      <th>Saving Private Ryan (1998)</th>\n",
              "      <td>0.390074</td>\n",
              "      <td>188</td>\n",
              "    </tr>\n",
              "    <tr>\n",
              "      <th>Finding Nemo (2003)</th>\n",
              "      <td>0.385565</td>\n",
              "      <td>141</td>\n",
              "    </tr>\n",
              "  </tbody>\n",
              "</table>\n",
              "</div>"
            ],
            "text/plain": [
              "                                                    Correlation  rating_counts\n",
              "title                                                                         \n",
              "Forrest Gump (1994)                                    1.000000            329\n",
              "Mr. Holland's Opus (1995)                              0.652144             80\n",
              "Big (1988)                                             0.492351             91\n",
              "Good Will Hunting (1997)                               0.484042            141\n",
              "Aladdin (1992)                                         0.464268            183\n",
              "Good, the Bad and the Ugly, The (Buono, il brut...     0.461204             72\n",
              "American History X (1998)                              0.457287            129\n",
              "Contact (1997)                                         0.438597             82\n",
              "Truman Show, The (1998)                                0.432556            125\n",
              "Back to the Future Part II (1989)                      0.427619             87\n",
              "Who Framed Roger Rabbit? (1988)                        0.427384             97\n",
              "Ace Ventura: When Nature Calls (1995)                  0.421868             88\n",
              "Santa Clause, The (1994)                               0.417250             81\n",
              "Braveheart (1995)                                      0.416976            237\n",
              "Ferris Bueller's Day Off (1986)                        0.405830            109\n",
              "Top Gun (1986)                                         0.405119             83\n",
              "Mrs. Doubtfire (1993)                                  0.401408            144\n",
              "Full Metal Jacket (1987)                               0.397241            102\n",
              "Saving Private Ryan (1998)                             0.390074            188\n",
              "Finding Nemo (2003)                                    0.385565            141"
            ]
          },
          "metadata": {
            "tags": []
          },
          "execution_count": 93
        }
      ]
    },
    {
      "cell_type": "markdown",
      "metadata": {
        "id": "VUIe8bb0ua25"
      },
      "source": [
        "#KNN Recommender"
      ]
    },
    {
      "cell_type": "code",
      "metadata": {
        "id": "hdYEolv3ud8Y",
        "colab": {
          "base_uri": "https://localhost:8080/",
          "height": 269
        },
        "outputId": "a9ef034e-7103-4395-9d7f-3415a5629178"
      },
      "source": [
        "# filter data\n",
        "popularity_thres = 70\n",
        "popular_movies = list(set(df_movies_count.query('count >= @popularity_thres').index))\n",
        "df_ratings_drop_movies = df_ratings[df_ratings.movieId.isin(popular_movies)]\n",
        "print('shape of original ratings data: ', df_ratings.shape)\n",
        "print('shape of ratings data after dropping unpopular movies: ', df_ratings_drop_movies.shape)\n",
        "\n",
        "# get number of ratings given by every user\n",
        "df_users_count = pd.DataFrame(df_ratings_drop_movies.groupby('userId').size(), columns=['count'])\n",
        "df_users_count.head()"
      ],
      "execution_count": null,
      "outputs": [
        {
          "output_type": "stream",
          "text": [
            "shape of original ratings data:  (100836, 3)\n",
            "shape of ratings data after dropping unpopular movies:  (3998, 3)\n"
          ],
          "name": "stdout"
        },
        {
          "output_type": "execute_result",
          "data": {
            "text/html": [
              "<div>\n",
              "<style scoped>\n",
              "    .dataframe tbody tr th:only-of-type {\n",
              "        vertical-align: middle;\n",
              "    }\n",
              "\n",
              "    .dataframe tbody tr th {\n",
              "        vertical-align: top;\n",
              "    }\n",
              "\n",
              "    .dataframe thead th {\n",
              "        text-align: right;\n",
              "    }\n",
              "</style>\n",
              "<table border=\"1\" class=\"dataframe\">\n",
              "  <thead>\n",
              "    <tr style=\"text-align: right;\">\n",
              "      <th></th>\n",
              "      <th>count</th>\n",
              "    </tr>\n",
              "    <tr>\n",
              "      <th>userId</th>\n",
              "      <th></th>\n",
              "    </tr>\n",
              "  </thead>\n",
              "  <tbody>\n",
              "    <tr>\n",
              "      <th>1</th>\n",
              "      <td>12</td>\n",
              "    </tr>\n",
              "    <tr>\n",
              "      <th>4</th>\n",
              "      <td>8</td>\n",
              "    </tr>\n",
              "    <tr>\n",
              "      <th>5</th>\n",
              "      <td>3</td>\n",
              "    </tr>\n",
              "    <tr>\n",
              "      <th>6</th>\n",
              "      <td>29</td>\n",
              "    </tr>\n",
              "    <tr>\n",
              "      <th>7</th>\n",
              "      <td>5</td>\n",
              "    </tr>\n",
              "  </tbody>\n",
              "</table>\n",
              "</div>"
            ],
            "text/plain": [
              "        count\n",
              "userId       \n",
              "1          12\n",
              "4           8\n",
              "5           3\n",
              "6          29\n",
              "7           5"
            ]
          },
          "metadata": {
            "tags": []
          },
          "execution_count": 94
        }
      ]
    },
    {
      "cell_type": "code",
      "metadata": {
        "id": "btUkwyYnvMIg",
        "colab": {
          "base_uri": "https://localhost:8080/",
          "height": 51
        },
        "outputId": "69802ff2-c91a-416e-efbb-2eeb40be0ff6"
      },
      "source": [
        "# filter data\n",
        "ratings_thres = 70\n",
        "active_users = list(set(df_users_count.query('count >= @ratings_thres').index))\n",
        "df_ratings_drop_users = df_ratings_drop_movies[df_ratings_drop_movies.userId.isin(active_users)]\n",
        "print('shape of original ratings data: ', df_ratings.shape)\n",
        "print('shape of ratings data after dropping both unpopular movies and inactive users: ', df_ratings_drop_users.shape)"
      ],
      "execution_count": null,
      "outputs": [
        {
          "output_type": "stream",
          "text": [
            "shape of original ratings data:  (100836, 3)\n",
            "shape of ratings data after dropping both unpopular movies and inactive users:  (195, 3)\n"
          ],
          "name": "stdout"
        }
      ]
    },
    {
      "cell_type": "code",
      "metadata": {
        "id": "U6CQLWSsvTva"
      },
      "source": [
        "# pivot and create movie-user matrix\n",
        "movie_user_mat = df_ratings_drop_users.pivot(index='movieId', columns='userId', values='rating').fillna(0)\n",
        "# create mapper from movie title to index\n",
        "movie_to_idx = {\n",
        "    movie: i for i, movie in \n",
        "    enumerate(list(df_movies.set_index('movieId').loc[movie_user_mat.index].title))\n",
        "}\n",
        "# transform matrix to scipy sparse matrix\n",
        "movie_user_mat_sparse = csr_matrix(movie_user_mat.values)"
      ],
      "execution_count": null,
      "outputs": []
    },
    {
      "cell_type": "code",
      "metadata": {
        "id": "t-oGE3W6veEk",
        "colab": {
          "base_uri": "https://localhost:8080/",
          "height": 85
        },
        "outputId": "2c6e6c23-50e2-49ce-e388-22643e9b79a1"
      },
      "source": [
        "%env JOBLIB_TEMP_FOLDER=/tmp\n",
        "# define model based off cosine similarity\n",
        "model_knn = NearestNeighbors(metric='cosine', algorithm='brute', n_neighbors=20, n_jobs=-1)\n",
        "# fit\n",
        "model_knn.fit(movie_user_mat_sparse)"
      ],
      "execution_count": null,
      "outputs": [
        {
          "output_type": "stream",
          "text": [
            "env: JOBLIB_TEMP_FOLDER=/tmp\n"
          ],
          "name": "stdout"
        },
        {
          "output_type": "execute_result",
          "data": {
            "text/plain": [
              "NearestNeighbors(algorithm='brute', leaf_size=30, metric='cosine',\n",
              "                 metric_params=None, n_jobs=-1, n_neighbors=20, p=2,\n",
              "                 radius=1.0)"
            ]
          },
          "metadata": {
            "tags": []
          },
          "execution_count": 97
        }
      ]
    },
    {
      "cell_type": "code",
      "metadata": {
        "id": "6jaJ3Hfovfxp"
      },
      "source": [
        "def fuzzy_matching(mapper, fav_movie, verbose=True):\n",
        "    \"\"\"\n",
        "    return the closest match via fuzzy ratio. If no match found, return None\n",
        "    \n",
        "    Parameters\n",
        "    ----------    \n",
        "    mapper: dict, map movie title name to index of the movie in data\n",
        "\n",
        "    fav_movie: str, name of user input movie\n",
        "    \n",
        "    verbose: bool, print log if True\n",
        "\n",
        "    Return\n",
        "    ------\n",
        "    index of the closest match\n",
        "    \"\"\"\n",
        "    match_tuple = []\n",
        "    # get match\n",
        "    for title, idx in mapper.items():\n",
        "        ratio = fuzz.ratio(title.lower(), fav_movie.lower())\n",
        "        if ratio >= 60:\n",
        "            match_tuple.append((title, idx, ratio))\n",
        "    # sort\n",
        "    match_tuple = sorted(match_tuple, key=lambda x: x[2])[::-1]\n",
        "    if not match_tuple:\n",
        "        print('Oops! No match is found')\n",
        "        return\n",
        "    if verbose:\n",
        "        print('Found possible matches in our database: {0}\\n'.format([x[0] for x in match_tuple]))\n",
        "    return match_tuple[0][1]\n",
        "\n",
        "\n",
        "\n",
        "def make_recommendation(model_knn, data, mapper, fav_movie, n_recommendations):\n",
        "    \"\"\"\n",
        "    return top n similar movie recommendations based on user's input movie\n",
        "\n",
        "\n",
        "    Parameters\n",
        "    ----------\n",
        "    model_knn: sklearn model, knn model\n",
        "\n",
        "    data: movie-user matrix\n",
        "\n",
        "    mapper: dict, map movie title name to index of the movie in data\n",
        "\n",
        "    fav_movie: str, name of user input movie\n",
        "\n",
        "    n_recommendations: int, top n recommendations\n",
        "\n",
        "    Return\n",
        "    ------\n",
        "    list of top n similar movie recommendations\n",
        "    \"\"\"\n",
        "    # fit\n",
        "    model_knn.fit(data)\n",
        "    # get input movie index\n",
        "    print('You have input movie:', fav_movie)\n",
        "    idx = fuzzy_matching(mapper, fav_movie, verbose=True)\n",
        "    # inference\n",
        "    print('Recommendation system start to make inference')\n",
        "    print('......\\n')\n",
        "    distances, indices = model_knn.kneighbors(data[idx], n_neighbors=n_recommendations+1)\n",
        "    # get list of raw idx of recommendations\n",
        "    raw_recommends = \\\n",
        "        sorted(list(zip(indices.squeeze().tolist(), distances.squeeze().tolist())), key=lambda x: x[1])[:0:-1]\n",
        "    # get reverse mapper\n",
        "    reverse_mapper = {v: k for k, v in mapper.items()}\n",
        "    # print recommendations\n",
        "    print('Recommendations for {}:'.format(fav_movie))\n",
        "    for i, (idx, dist) in enumerate(raw_recommends):\n",
        "        print('{0}: {1}, with distance of {2}'.format(i+1, reverse_mapper[idx], dist))"
      ],
      "execution_count": null,
      "outputs": []
    },
    {
      "cell_type": "code",
      "metadata": {
        "id": "x2KHcndrvhsB",
        "colab": {
          "base_uri": "https://localhost:8080/",
          "height": 306
        },
        "outputId": "670c4c17-12ad-4f8e-9db7-45d39fe2445b"
      },
      "source": [
        "my_favorite = 'Forrest Gump'\n",
        "\n",
        "make_recommendation(\n",
        "    model_knn=model_knn,\n",
        "    data=movie_user_mat_sparse,\n",
        "    fav_movie=my_favorite,\n",
        "    mapper=movie_to_idx,\n",
        "    n_recommendations=10)"
      ],
      "execution_count": null,
      "outputs": [
        {
          "output_type": "stream",
          "text": [
            "You have input movie: Forrest Gump\n",
            "Found possible matches in our database: ['Forrest Gump (1994)']\n",
            "\n",
            "Recommendation system start to make inference\n",
            "......\n",
            "\n",
            "Recommendations for Forrest Gump:\n",
            "1: Indiana Jones and the Last Crusade (1989), with distance of 0.0013123750686645508\n",
            "2: Raiders of the Lost Ark (Indiana Jones and the Raiders of the Lost Ark) (1981), with distance of 0.0013123750686645508\n",
            "3: Snow White and the Seven Dwarfs (1937), with distance of 0.0013123750686645508\n",
            "4: One Flew Over the Cuckoo's Nest (1975), with distance of 0.0013123750686645508\n",
            "5: Rock, The (1996), with distance of 0.0005370378494262695\n",
            "6: Mission: Impossible II (2000), with distance of 0.0005370378494262695\n",
            "7: City of God (Cidade de Deus) (2002), with distance of 0.0002702474594116211\n",
            "8: What's Eating Gilbert Grape (1993), with distance of 0.0\n",
            "9: Monty Python's Life of Brian (1979), with distance of 0.0\n",
            "10: Forrest Gump (1994), with distance of 0.0\n"
          ],
          "name": "stdout"
        }
      ]
    },
    {
      "cell_type": "markdown",
      "metadata": {
        "id": "8EroAxq2wMOU"
      },
      "source": [
        "# Generalized Matrix Factorization"
      ]
    },
    {
      "cell_type": "code",
      "metadata": {
        "id": "Epfkfz01wfcU"
      },
      "source": [
        "# Dimensional Space Reduction for matrix factorization\n",
        "\n",
        "def reduce_item_dim(df_ratings):\n",
        "    \"\"\"\n",
        "    Reduce item vector dimension to the number of distinct items in our data sets\n",
        "    \n",
        "    input: pd.DataFrame, df_ratings should have columns ['userId', 'movieId', 'rating']\n",
        "    output: pd.DataFrame, df_ratings with new 'MovieID' that is compressed\n",
        "    \"\"\"\n",
        "    # pivot\n",
        "    df_user_item = df_ratings.pivot(index='userId', columns='movieId', values='rating')\n",
        "    # reset movieId\n",
        "    df_user_item = df_user_item.T.reset_index(drop=True).T\n",
        "    # undo pivot/melt - compress data frame\n",
        "    df_ratings_new = df_user_item \\\n",
        "        .reset_index('userId') \\\n",
        "        .melt(\n",
        "            id_vars='userId', \n",
        "            value_vars=df_user_item.columns,\n",
        "            var_name='movieId',\n",
        "            value_name='rating')\n",
        "    # drop nan and final clean up\n",
        "    return df_ratings_new.dropna().sort_values(['userId', 'movieId']).reset_index(drop=True)"
      ],
      "execution_count": null,
      "outputs": []
    },
    {
      "cell_type": "code",
      "metadata": {
        "id": "maBWwfdXwsx6",
        "colab": {
          "base_uri": "https://localhost:8080/",
          "height": 221
        },
        "outputId": "ce08a527-c19e-49eb-9150-e22ea7dd5d6d"
      },
      "source": [
        "print('reduce item dimension before:')\n",
        "df_ratings.head()"
      ],
      "execution_count": null,
      "outputs": [
        {
          "output_type": "stream",
          "text": [
            "reduce item dimension before:\n"
          ],
          "name": "stdout"
        },
        {
          "output_type": "execute_result",
          "data": {
            "text/html": [
              "<div>\n",
              "<style scoped>\n",
              "    .dataframe tbody tr th:only-of-type {\n",
              "        vertical-align: middle;\n",
              "    }\n",
              "\n",
              "    .dataframe tbody tr th {\n",
              "        vertical-align: top;\n",
              "    }\n",
              "\n",
              "    .dataframe thead th {\n",
              "        text-align: right;\n",
              "    }\n",
              "</style>\n",
              "<table border=\"1\" class=\"dataframe\">\n",
              "  <thead>\n",
              "    <tr style=\"text-align: right;\">\n",
              "      <th></th>\n",
              "      <th>userId</th>\n",
              "      <th>movieId</th>\n",
              "      <th>rating</th>\n",
              "    </tr>\n",
              "  </thead>\n",
              "  <tbody>\n",
              "    <tr>\n",
              "      <th>0</th>\n",
              "      <td>1</td>\n",
              "      <td>1</td>\n",
              "      <td>4.0</td>\n",
              "    </tr>\n",
              "    <tr>\n",
              "      <th>1</th>\n",
              "      <td>1</td>\n",
              "      <td>3</td>\n",
              "      <td>4.0</td>\n",
              "    </tr>\n",
              "    <tr>\n",
              "      <th>2</th>\n",
              "      <td>1</td>\n",
              "      <td>6</td>\n",
              "      <td>4.0</td>\n",
              "    </tr>\n",
              "    <tr>\n",
              "      <th>3</th>\n",
              "      <td>1</td>\n",
              "      <td>47</td>\n",
              "      <td>5.0</td>\n",
              "    </tr>\n",
              "    <tr>\n",
              "      <th>4</th>\n",
              "      <td>1</td>\n",
              "      <td>50</td>\n",
              "      <td>5.0</td>\n",
              "    </tr>\n",
              "  </tbody>\n",
              "</table>\n",
              "</div>"
            ],
            "text/plain": [
              "   userId  movieId  rating\n",
              "0       1        1     4.0\n",
              "1       1        3     4.0\n",
              "2       1        6     4.0\n",
              "3       1       47     5.0\n",
              "4       1       50     5.0"
            ]
          },
          "metadata": {
            "tags": []
          },
          "execution_count": 75
        }
      ]
    },
    {
      "cell_type": "code",
      "metadata": {
        "id": "XftA9TUNwwu3",
        "colab": {
          "base_uri": "https://localhost:8080/",
          "height": 221
        },
        "outputId": "11c3f8ba-075d-4ff6-c073-623a9f474d88"
      },
      "source": [
        "df_ratings = reduce_item_dim(df_ratings)\n",
        "\n",
        "print('reduce item dimension after:')\n",
        "df_ratings.head()"
      ],
      "execution_count": null,
      "outputs": [
        {
          "output_type": "stream",
          "text": [
            "reduce item dimension after:\n"
          ],
          "name": "stdout"
        },
        {
          "output_type": "execute_result",
          "data": {
            "text/html": [
              "<div>\n",
              "<style scoped>\n",
              "    .dataframe tbody tr th:only-of-type {\n",
              "        vertical-align: middle;\n",
              "    }\n",
              "\n",
              "    .dataframe tbody tr th {\n",
              "        vertical-align: top;\n",
              "    }\n",
              "\n",
              "    .dataframe thead th {\n",
              "        text-align: right;\n",
              "    }\n",
              "</style>\n",
              "<table border=\"1\" class=\"dataframe\">\n",
              "  <thead>\n",
              "    <tr style=\"text-align: right;\">\n",
              "      <th></th>\n",
              "      <th>userId</th>\n",
              "      <th>movieId</th>\n",
              "      <th>rating</th>\n",
              "    </tr>\n",
              "  </thead>\n",
              "  <tbody>\n",
              "    <tr>\n",
              "      <th>0</th>\n",
              "      <td>1</td>\n",
              "      <td>0</td>\n",
              "      <td>4.0</td>\n",
              "    </tr>\n",
              "    <tr>\n",
              "      <th>1</th>\n",
              "      <td>1</td>\n",
              "      <td>2</td>\n",
              "      <td>4.0</td>\n",
              "    </tr>\n",
              "    <tr>\n",
              "      <th>2</th>\n",
              "      <td>1</td>\n",
              "      <td>5</td>\n",
              "      <td>4.0</td>\n",
              "    </tr>\n",
              "    <tr>\n",
              "      <th>3</th>\n",
              "      <td>1</td>\n",
              "      <td>43</td>\n",
              "      <td>5.0</td>\n",
              "    </tr>\n",
              "    <tr>\n",
              "      <th>4</th>\n",
              "      <td>1</td>\n",
              "      <td>46</td>\n",
              "      <td>5.0</td>\n",
              "    </tr>\n",
              "  </tbody>\n",
              "</table>\n",
              "</div>"
            ],
            "text/plain": [
              "   userId movieId  rating\n",
              "0       1       0     4.0\n",
              "1       1       2     4.0\n",
              "2       1       5     4.0\n",
              "3       1      43     5.0\n",
              "4       1      46     5.0"
            ]
          },
          "metadata": {
            "tags": []
          },
          "execution_count": 76
        }
      ]
    },
    {
      "cell_type": "code",
      "metadata": {
        "id": "ND8T1wXawzph",
        "colab": {
          "base_uri": "https://localhost:8080/",
          "height": 51
        },
        "outputId": "26c3d299-6beb-4cb0-9e99-c1a4dd892e56"
      },
      "source": [
        "# train/test data split\n",
        "\n",
        "df_train, df_test = train_test_split(df_ratings,test_size=0.3,shuffle=True, random_state = 88)\n",
        "print('shape of training data set:', df_train.shape)\n",
        "print('shape of test data set:', df_test.shape)"
      ],
      "execution_count": null,
      "outputs": [
        {
          "output_type": "stream",
          "text": [
            "shape of training data set: (70585, 3)\n",
            "shape of test data set: (30251, 3)\n"
          ],
          "name": "stdout"
        }
      ]
    },
    {
      "cell_type": "code",
      "metadata": {
        "id": "dXKOb-xExDZA"
      },
      "source": [
        "def get_GMF_model(n_users, n_items, latent_dim, vu_reg, vi_reg):   \n",
        "    \"\"\"\n",
        "    Build Generalized Matrix Factorization Model Topology\n",
        "    \n",
        "    Parameters\n",
        "    ----------\n",
        "    num_users: int, total number of users\n",
        "    num_iterms: int, total number of items\n",
        "    latent_dim: int, embedded dimension for user vector and item vector\n",
        "    vu_reg: float, L2 regularization of user embedded layer\n",
        "    vi_reg: float, L2 regularization of item embedded layer\n",
        "\n",
        "    Return\n",
        "    ------\n",
        "    A Keras Model with GMF model architeture\n",
        "    \"\"\"\n",
        "    # Input variables\n",
        "    user_input = Input(shape=(1,), dtype='int32', name='user_input')\n",
        "    item_input = Input(shape=(1,), dtype='int32', name='item_input')\n",
        "\n",
        "    MF_Embedding_User = Embedding(\n",
        "        input_dim=n_users + 1,\n",
        "        output_dim=latent_dim,\n",
        "        embeddings_initializer='uniform',\n",
        "        name='user_embedding',\n",
        "        embeddings_regularizer=l2(vu_reg),\n",
        "        input_length=1)\n",
        "    MF_Embedding_Item = Embedding(\n",
        "        input_dim=n_items + 1,\n",
        "        output_dim=latent_dim,\n",
        "        embeddings_initializer='uniform',\n",
        "        name='item_embedding',\n",
        "        embeddings_regularizer=l2(vi_reg),\n",
        "        input_length=1) \n",
        "    \n",
        "    # Crucial to flatten an embedding vector!\n",
        "    user_latent = Flatten()(MF_Embedding_User(user_input))\n",
        "    item_latent = Flatten()(MF_Embedding_Item(item_input))\n",
        "\n",
        "    # Element-wise product of user and item embeddings \n",
        "    predict_vector = Multiply()([user_latent, item_latent])\n",
        "    \n",
        "    # Final prediction layer\n",
        "    prediction = Dense(1, kernel_initializer='glorot_uniform', name='prediction')(predict_vector)\n",
        "    \n",
        "    # Stitch input and output\n",
        "    model = Model([user_input, item_input], prediction)\n",
        "    \n",
        "    return model\n",
        "\n",
        "\n",
        "def train_model(model, learner, batch_size, epochs, val_split, inputs, outputs):\n",
        "    \"\"\"\n",
        "    define training routine, train models and save best model\n",
        "    \n",
        "    Parameters\n",
        "    ----------\n",
        "    model: a Keras model\n",
        "    learner: str, one of ['sgd', 'adam', 'rmsprop', 'adagrad']\n",
        "    batch_size: num samples per update\n",
        "    epochs: num iterations\n",
        "    val_split: split ratio for validation data\n",
        "    inputs: inputs data\n",
        "    outputs: outputs data\n",
        "    \"\"\"\n",
        "    # add customized metric\n",
        "    def rmse(y_true, y_pred):\n",
        "        return K.sqrt(K.mean(K.square(y_true - y_pred)))\n",
        "    \n",
        "    # compile model\n",
        "    model.compile(optimizer=learner.lower(), loss='mean_squared_error', metrics=['mean_squared_error', rmse])\n",
        "    \n",
        "    # add call backs\n",
        "    early_stopper = EarlyStopping(monitor='val_rmse', patience=10, verbose=1)\n",
        "    model_saver = ModelCheckpoint(filepath=os.path.join(data_path, '/tmp/model.hdf5'),\n",
        "                                  monitor='val_rmse',\n",
        "                                  save_best_only=True,\n",
        "                                  save_weights_only=True)\n",
        "    # train model\n",
        "    history = model.fit(inputs, outputs,\n",
        "                        batch_size=batch_size,\n",
        "                        epochs=epochs,\n",
        "                        validation_split=val_split,\n",
        "                        callbacks=[early_stopper, model_saver])\n",
        "    return history\n",
        "\n",
        "\n",
        "def load_trained_model(model, weights_path):\n",
        "    model.load_weights(weights_path)\n",
        "    return model"
      ],
      "execution_count": null,
      "outputs": []
    },
    {
      "cell_type": "code",
      "metadata": {
        "id": "xLIzTiPFxMsd",
        "colab": {
          "base_uri": "https://localhost:8080/",
          "height": 442
        },
        "outputId": "81fc9582-211e-4818-83f1-4bc929eb3c86"
      },
      "source": [
        "# Create GMF Model\n",
        "\n",
        "GMF_model = get_GMF_model(n_users,n_items,10,0,0)\n",
        "GMF_model.summary()"
      ],
      "execution_count": null,
      "outputs": [
        {
          "output_type": "stream",
          "text": [
            "Model: \"model_12\"\n",
            "__________________________________________________________________________________________________\n",
            "Layer (type)                    Output Shape         Param #     Connected to                     \n",
            "==================================================================================================\n",
            "user_input (InputLayer)         [(None, 1)]          0                                            \n",
            "__________________________________________________________________________________________________\n",
            "item_input (InputLayer)         [(None, 1)]          0                                            \n",
            "__________________________________________________________________________________________________\n",
            "user_embedding (Embedding)      (None, 1, 10)        6110        user_input[0][0]                 \n",
            "__________________________________________________________________________________________________\n",
            "item_embedding (Embedding)      (None, 1, 10)        97250       item_input[0][0]                 \n",
            "__________________________________________________________________________________________________\n",
            "flatten_32 (Flatten)            (None, 10)           0           user_embedding[0][0]             \n",
            "__________________________________________________________________________________________________\n",
            "flatten_33 (Flatten)            (None, 10)           0           item_embedding[0][0]             \n",
            "__________________________________________________________________________________________________\n",
            "multiply_8 (Multiply)           (None, 10)           0           flatten_32[0][0]                 \n",
            "                                                                 flatten_33[0][0]                 \n",
            "__________________________________________________________________________________________________\n",
            "prediction (Dense)              (None, 1)            11          multiply_8[0][0]                 \n",
            "==================================================================================================\n",
            "Total params: 103,371\n",
            "Trainable params: 103,371\n",
            "Non-trainable params: 0\n",
            "__________________________________________________________________________________________________\n"
          ],
          "name": "stdout"
        }
      ]
    },
    {
      "cell_type": "code",
      "metadata": {
        "id": "Fp7Zdr0ExP11",
        "colab": {
          "base_uri": "https://localhost:8080/",
          "height": 513
        },
        "outputId": "a9496b27-149b-4b96-aa5e-f91b088a51a7"
      },
      "source": [
        "# Train GMF Model\n",
        "\n",
        "# model config\n",
        "batch_size = 64\n",
        "epochs =30\n",
        "val_split = 0.25\n",
        "\n",
        "#train model\n",
        "history = train_model(GMF_model,'adam',batch_size, epochs, val_split,\n",
        "                      inputs=[df_train.userId.values, df_train.movieId.values],\n",
        "                      outputs=df_train.rating.values)"
      ],
      "execution_count": null,
      "outputs": [
        {
          "output_type": "stream",
          "text": [
            "Train on 52938 samples, validate on 17647 samples\n",
            "Epoch 1/30\n",
            "52938/52938 [==============================] - 5s 91us/sample - loss: 0.5968 - mean_squared_error: 0.5968 - rmse: 0.7673 - val_loss: 1.0546 - val_mean_squared_error: 1.0546 - val_rmse: 1.0214\n",
            "Epoch 2/30\n",
            "52938/52938 [==============================] - 5s 86us/sample - loss: 0.5673 - mean_squared_error: 0.5673 - rmse: 0.7480 - val_loss: 1.0470 - val_mean_squared_error: 1.0470 - val_rmse: 1.0176\n",
            "Epoch 3/30\n",
            "52938/52938 [==============================] - 5s 89us/sample - loss: 0.5403 - mean_squared_error: 0.5403 - rmse: 0.7299 - val_loss: 1.0463 - val_mean_squared_error: 1.0463 - val_rmse: 1.0163\n",
            "Epoch 4/30\n",
            "52938/52938 [==============================] - 5s 86us/sample - loss: 0.5163 - mean_squared_error: 0.5163 - rmse: 0.7127 - val_loss: 1.0546 - val_mean_squared_error: 1.0546 - val_rmse: 1.0211\n",
            "Epoch 5/30\n",
            "52938/52938 [==============================] - 5s 86us/sample - loss: 0.4934 - mean_squared_error: 0.4934 - rmse: 0.6972 - val_loss: 1.0542 - val_mean_squared_error: 1.0542 - val_rmse: 1.0213\n",
            "Epoch 6/30\n",
            "52938/52938 [==============================] - 4s 81us/sample - loss: 0.4707 - mean_squared_error: 0.4707 - rmse: 0.6813 - val_loss: 1.0641 - val_mean_squared_error: 1.0641 - val_rmse: 1.0253\n",
            "Epoch 7/30\n",
            "52938/52938 [==============================] - 4s 83us/sample - loss: 0.4481 - mean_squared_error: 0.4481 - rmse: 0.6648 - val_loss: 1.0738 - val_mean_squared_error: 1.0738 - val_rmse: 1.0308\n",
            "Epoch 8/30\n",
            "52938/52938 [==============================] - 4s 82us/sample - loss: 0.4256 - mean_squared_error: 0.4256 - rmse: 0.6471 - val_loss: 1.0864 - val_mean_squared_error: 1.0864 - val_rmse: 1.0365\n",
            "Epoch 9/30\n",
            "52938/52938 [==============================] - 4s 83us/sample - loss: 0.4051 - mean_squared_error: 0.4051 - rmse: 0.6318 - val_loss: 1.0966 - val_mean_squared_error: 1.0966 - val_rmse: 1.0411\n",
            "Epoch 10/30\n",
            "52938/52938 [==============================] - 4s 81us/sample - loss: 0.3848 - mean_squared_error: 0.3848 - rmse: 0.6154 - val_loss: 1.1175 - val_mean_squared_error: 1.1175 - val_rmse: 1.0508\n",
            "Epoch 11/30\n",
            "52938/52938 [==============================] - 4s 81us/sample - loss: 0.3668 - mean_squared_error: 0.3668 - rmse: 0.6007 - val_loss: 1.1265 - val_mean_squared_error: 1.1265 - val_rmse: 1.0557\n",
            "Epoch 12/30\n",
            "52938/52938 [==============================] - 4s 82us/sample - loss: 0.3507 - mean_squared_error: 0.3507 - rmse: 0.5867 - val_loss: 1.1437 - val_mean_squared_error: 1.1437 - val_rmse: 1.0641\n",
            "Epoch 13/30\n",
            "52938/52938 [==============================] - 4s 80us/sample - loss: 0.3355 - mean_squared_error: 0.3355 - rmse: 0.5746 - val_loss: 1.1583 - val_mean_squared_error: 1.1583 - val_rmse: 1.0696\n",
            "Epoch 00013: early stopping\n"
          ],
          "name": "stdout"
        }
      ]
    },
    {
      "cell_type": "code",
      "metadata": {
        "id": "16q8jzVuxp8R",
        "colab": {
          "base_uri": "https://localhost:8080/",
          "height": 458
        },
        "outputId": "9518ea17-97ca-47a8-f416-b6d16e3515b2"
      },
      "source": [
        "# GMF Learning Curve\n",
        "\n",
        "def plot_learning_curve(history, metric):\n",
        "    \"\"\"\n",
        "    Plot learning curve to compare training error vs. validation error\n",
        "    \"\"\"\n",
        "    # get training error\n",
        "    errors = history.history[metric]\n",
        "    # get validation error\n",
        "    val_errors = history.history['val_{}'.format(metric)]\n",
        "    # get epochs\n",
        "    epochs = range(1, len(errors) + 1)\n",
        "\n",
        "    # plot\n",
        "    plt.figure(figsize=(12, 7))\n",
        "    plt.plot(epochs, errors, 'bo', label='training {}'.format(metric))\n",
        "    plt.plot(epochs, val_errors, 'b', label='validation {}'.format(metric))\n",
        "    plt.xlabel('number of epochs')\n",
        "    plt.ylabel(metric)\n",
        "    plt.title('Model Learning Curve')\n",
        "    plt.grid(True)\n",
        "    plt.legend()\n",
        "    plt.show()\n",
        "\n",
        "plot_learning_curve(history,'rmse')"
      ],
      "execution_count": null,
      "outputs": [
        {
          "output_type": "display_data",
          "data": {
            "image/png": "[encoded data removed]",
            "text/plain": [
              "<Figure size 864x504 with 1 Axes>"
            ]
          },
          "metadata": {
            "tags": []
          }
        }
      ]
    },
    {
      "cell_type": "code",
      "metadata": {
        "id": "KPlOkC_Pxwyh",
        "colab": {
          "base_uri": "https://localhost:8080/",
          "height": 34
        },
        "outputId": "a2518127-0ffb-4ded-bffe-c23751dad9b6"
      },
      "source": [
        "# Model Testing\n",
        "\n",
        "rmse = lambda true, pred: np.sqrt(np.mean(np.square(np.squeeze(predictions) - np.squeeze(df_test.rating.values))))\n",
        "\n",
        "# load best model\n",
        "GMF_model = get_GMF_model(n_users, n_items, 10, 0, 0)\n",
        "GMF_model = load_trained_model(GMF_model, os.path.join(data_path, '/tmp/model.hdf5'))\n",
        "# make prediction using test data\n",
        "predictions = GMF_model.predict([df_test.userId.values, df_test.movieId.values])\n",
        "# get the RMSE\n",
        "error = rmse(df_test.rating.values, predictions)\n",
        "print('The best RMSE of rating predictions is', round(error, 4))"
      ],
      "execution_count": null,
      "outputs": [
        {
          "output_type": "stream",
          "text": [
            "The out-of-sample RMSE of rating predictions is 1.0335\n"
          ],
          "name": "stdout"
        }
      ]
    },
    {
      "cell_type": "markdown",
      "metadata": {
        "id": "4esdeuFXx23J"
      },
      "source": [
        "# Multi-Layer Perceptron"
      ]
    },
    {
      "cell_type": "code",
      "metadata": {
        "id": "OTOEx107x80u"
      },
      "source": [
        "# define MLP model architecture\n",
        "\n",
        "def get_MLP_model(n_users, n_items, layers, reg_layers):\n",
        "    \"\"\"\n",
        "    Build Multi-Layer Perceptron Model Topology\n",
        "    \n",
        "    Parameters\n",
        "    ----------\n",
        "    num_users: int, total number of users\n",
        "    num_iterms: int, total number of items\n",
        "    layers: list of int, each element is the number of hidden units for each layer,\n",
        "        with the exception of first element. First element is the sum of dims of\n",
        "        user latent vector and item latent vector\n",
        "    reg_layers: list of int, each element is the L2 regularization parameter for\n",
        "        each layer in MLP\n",
        "\n",
        "    Return\n",
        "    ------\n",
        "    A Keras Model with MLP model architeture\n",
        "    \"\"\"\n",
        "    assert len(layers) == len(reg_layers)\n",
        "    num_layer = len(layers) # Number of layers in the MLP\n",
        "    # Input variables\n",
        "    user_input = Input(shape=(1,), dtype='int32', name='user_input')\n",
        "    item_input = Input(shape=(1,), dtype='int32', name='item_input')\n",
        "\n",
        "    MLP_Embedding_User = Embedding(\n",
        "        input_dim=n_users + 1,\n",
        "        output_dim=layers[0] // 2,\n",
        "        embeddings_initializer='uniform',\n",
        "        name='user_embedding',\n",
        "        embeddings_regularizer=l2(reg_layers[0]),\n",
        "        input_length=1)\n",
        "    MLP_Embedding_Item = Embedding(\n",
        "        input_dim=n_items + 1,\n",
        "        output_dim=layers[0] // 2,\n",
        "        embeddings_initializer='uniform',\n",
        "        name='item_embedding',\n",
        "        embeddings_regularizer=l2(reg_layers[0]),\n",
        "        input_length=1) \n",
        "    \n",
        "    # Crucial to flatten an embedding vector!\n",
        "    user_latent = Flatten()(MLP_Embedding_User(user_input))\n",
        "    item_latent = Flatten()(MLP_Embedding_Item(item_input))\n",
        "\n",
        "    # The 0-th layer is the concatenation of embedding layers\n",
        "    vector = Concatenate(axis=-1)([user_latent, item_latent])\n",
        "\n",
        "    # MLP layers\n",
        "    for idx in range(1, num_layer):\n",
        "        layer = Dense(\n",
        "            units=layers[idx],\n",
        "            activation='relu',\n",
        "            kernel_initializer='glorot_uniform',\n",
        "            kernel_regularizer=l2(reg_layers[idx]),\n",
        "            name = 'layer%d' %idx)\n",
        "        vector = layer(vector)\n",
        "    \n",
        "    # Final prediction layer\n",
        "    prediction = Dense(1, kernel_initializer='glorot_uniform', name='prediction')(vector)\n",
        "    \n",
        "    # Stitch input and output\n",
        "    model = Model([user_input, item_input], prediction)\n",
        "    \n",
        "    return model"
      ],
      "execution_count": null,
      "outputs": []
    },
    {
      "cell_type": "code",
      "metadata": {
        "id": "toV6-2muyNe8",
        "colab": {
          "base_uri": "https://localhost:8080/",
          "height": 544
        },
        "outputId": "ed1bf45e-5555-423d-bb96-ed7ac54093d7"
      },
      "source": [
        "# create MLP model\n",
        "\n",
        "MLP_model = get_MLP_model(n_users, n_items, [64, 32, 16, 8], [0, 0, 0, 0])\n",
        "MLP_model.summary()"
      ],
      "execution_count": null,
      "outputs": [
        {
          "output_type": "stream",
          "text": [
            "Model: \"model_8\"\n",
            "__________________________________________________________________________________________________\n",
            "Layer (type)                    Output Shape         Param #     Connected to                     \n",
            "==================================================================================================\n",
            "user_input (InputLayer)         [(None, 1)]          0                                            \n",
            "__________________________________________________________________________________________________\n",
            "item_input (InputLayer)         [(None, 1)]          0                                            \n",
            "__________________________________________________________________________________________________\n",
            "user_embedding (Embedding)      (None, 1, 32)        19552       user_input[0][0]                 \n",
            "__________________________________________________________________________________________________\n",
            "item_embedding (Embedding)      (None, 1, 32)        311200      item_input[0][0]                 \n",
            "__________________________________________________________________________________________________\n",
            "flatten_20 (Flatten)            (None, 32)           0           user_embedding[0][0]             \n",
            "__________________________________________________________________________________________________\n",
            "flatten_21 (Flatten)            (None, 32)           0           item_embedding[0][0]             \n",
            "__________________________________________________________________________________________________\n",
            "concatenate_6 (Concatenate)     (None, 64)           0           flatten_20[0][0]                 \n",
            "                                                                 flatten_21[0][0]                 \n",
            "__________________________________________________________________________________________________\n",
            "layer1 (Dense)                  (None, 32)           2080        concatenate_6[0][0]              \n",
            "__________________________________________________________________________________________________\n",
            "layer2 (Dense)                  (None, 16)           528         layer1[0][0]                     \n",
            "__________________________________________________________________________________________________\n",
            "layer3 (Dense)                  (None, 8)            136         layer2[0][0]                     \n",
            "__________________________________________________________________________________________________\n",
            "prediction (Dense)              (None, 1)            9           layer3[0][0]                     \n",
            "==================================================================================================\n",
            "Total params: 333,505\n",
            "Trainable params: 333,505\n",
            "Non-trainable params: 0\n",
            "__________________________________________________________________________________________________\n"
          ],
          "name": "stdout"
        }
      ]
    },
    {
      "cell_type": "code",
      "metadata": {
        "id": "6l84MTRNyRwQ",
        "colab": {
          "base_uri": "https://localhost:8080/",
          "height": 547
        },
        "outputId": "24504dab-1581-4a78-b9dd-e584d82a5466"
      },
      "source": [
        "# Train MLP Model\n",
        "\n",
        "# model config\n",
        "BATCH_SIZE = 64\n",
        "EPOCHS = 30\n",
        "VAL_SPLIT = 0.25\n",
        "\n",
        "# train model\n",
        "history = train_model(MLP_model, 'adam', BATCH_SIZE, EPOCHS, VAL_SPLIT, \n",
        "                      inputs=[df_train.userId.values, df_train.movieId.values],\n",
        "                      outputs=df_train.rating.values)"
      ],
      "execution_count": null,
      "outputs": [
        {
          "output_type": "stream",
          "text": [
            "Train on 56720 samples, validate on 18907 samples\n",
            "Epoch 1/30\n",
            "56720/56720 [==============================] - 6s 109us/sample - loss: 1.7356 - mean_squared_error: 1.7356 - rmse: 1.1420 - val_loss: 0.7887 - val_mean_squared_error: 0.7887 - val_rmse: 0.8833\n",
            "Epoch 2/30\n",
            "56720/56720 [==============================] - 6s 97us/sample - loss: 0.7238 - mean_squared_error: 0.7238 - rmse: 0.8455 - val_loss: 0.7707 - val_mean_squared_error: 0.7707 - val_rmse: 0.8739\n",
            "Epoch 3/30\n",
            "56720/56720 [==============================] - 5s 94us/sample - loss: 0.6712 - mean_squared_error: 0.6712 - rmse: 0.8142 - val_loss: 0.7651 - val_mean_squared_error: 0.7651 - val_rmse: 0.8693\n",
            "Epoch 4/30\n",
            "56720/56720 [==============================] - 5s 96us/sample - loss: 0.6350 - mean_squared_error: 0.6350 - rmse: 0.7920 - val_loss: 0.7639 - val_mean_squared_error: 0.7639 - val_rmse: 0.8680\n",
            "Epoch 5/30\n",
            "56720/56720 [==============================] - 5s 95us/sample - loss: 0.5999 - mean_squared_error: 0.5999 - rmse: 0.7691 - val_loss: 0.7732 - val_mean_squared_error: 0.7732 - val_rmse: 0.8748\n",
            "Epoch 6/30\n",
            "56720/56720 [==============================] - 5s 93us/sample - loss: 0.5608 - mean_squared_error: 0.5608 - rmse: 0.7435 - val_loss: 0.7999 - val_mean_squared_error: 0.7999 - val_rmse: 0.8889\n",
            "Epoch 7/30\n",
            "56720/56720 [==============================] - 5s 96us/sample - loss: 0.5213 - mean_squared_error: 0.5213 - rmse: 0.7173 - val_loss: 0.8166 - val_mean_squared_error: 0.8166 - val_rmse: 0.8971\n",
            "Epoch 8/30\n",
            "56720/56720 [==============================] - 6s 99us/sample - loss: 0.4836 - mean_squared_error: 0.4836 - rmse: 0.6901 - val_loss: 0.8405 - val_mean_squared_error: 0.8405 - val_rmse: 0.9120\n",
            "Epoch 9/30\n",
            "56720/56720 [==============================] - 5s 96us/sample - loss: 0.4457 - mean_squared_error: 0.4457 - rmse: 0.6622 - val_loss: 0.8586 - val_mean_squared_error: 0.8586 - val_rmse: 0.9211\n",
            "Epoch 10/30\n",
            "56720/56720 [==============================] - 5s 92us/sample - loss: 0.4123 - mean_squared_error: 0.4123 - rmse: 0.6371 - val_loss: 0.8724 - val_mean_squared_error: 0.8724 - val_rmse: 0.9279\n",
            "Epoch 11/30\n",
            "56720/56720 [==============================] - 5s 95us/sample - loss: 0.3828 - mean_squared_error: 0.3828 - rmse: 0.6137 - val_loss: 0.9025 - val_mean_squared_error: 0.9025 - val_rmse: 0.9442\n",
            "Epoch 12/30\n",
            "56720/56720 [==============================] - 5s 95us/sample - loss: 0.3544 - mean_squared_error: 0.3544 - rmse: 0.5903 - val_loss: 0.9097 - val_mean_squared_error: 0.9097 - val_rmse: 0.9488\n",
            "Epoch 13/30\n",
            "56720/56720 [==============================] - 6s 100us/sample - loss: 0.3306 - mean_squared_error: 0.3306 - rmse: 0.5705 - val_loss: 0.9278 - val_mean_squared_error: 0.9278 - val_rmse: 0.9564\n",
            "Epoch 14/30\n",
            "56720/56720 [==============================] - 5s 92us/sample - loss: 0.3078 - mean_squared_error: 0.3078 - rmse: 0.5506 - val_loss: 0.9443 - val_mean_squared_error: 0.9443 - val_rmse: 0.9661\n",
            "Epoch 00014: early stopping\n"
          ],
          "name": "stdout"
        }
      ]
    },
    {
      "cell_type": "code",
      "metadata": {
        "id": "JMtlUxpQyXZU",
        "colab": {
          "base_uri": "https://localhost:8080/",
          "height": 458
        },
        "outputId": "5dc23792-9609-4aaa-9c10-a7435dc4c49c"
      },
      "source": [
        "# MLP Learning Curve\n",
        "\n",
        "plot_learning_curve(history,'rmse')"
      ],
      "execution_count": null,
      "outputs": [
        {
          "output_type": "display_data",
          "data": {
            "image/png": "[encoded data removed]",
            "text/plain": [
              "<Figure size 864x504 with 1 Axes>"
            ]
          },
          "metadata": {
            "tags": []
          }
        }
      ]
    },
    {
      "cell_type": "code",
      "metadata": {
        "id": "LFz1ggm3yofs",
        "colab": {
          "base_uri": "https://localhost:8080/",
          "height": 34
        },
        "outputId": "60432ddd-4127-42ee-9bab-dfea5eac9862"
      },
      "source": [
        "#MLP Model Testing\n",
        "\n",
        "# load best model\n",
        "MLP_model = get_MLP_model(n_users, n_items, [64, 32, 16, 8], [0, 0, 0, 0])\n",
        "MLP_model = load_trained_model(MLP_model, os.path.join(data_path, '/tmp/model.hdf5'))\n",
        "# make prediction using test data\n",
        "predictions = MLP_model.predict([df_test.userId.values, df_test.movieId.values])\n",
        "# get the RMSE\n",
        "error = rmse(df_test.rating.values, predictions)\n",
        "print('The best RMSE of rating predictions is', round(error, 4))"
      ],
      "execution_count": null,
      "outputs": [
        {
          "output_type": "stream",
          "text": [
            "The out-of-sample RMSE of rating predictions is 0.8818\n"
          ],
          "name": "stdout"
        }
      ]
    },
    {
      "cell_type": "markdown",
      "metadata": {
        "id": "zKS6u-fqyu8W"
      },
      "source": [
        "# Neural Matrix Factorization (NeuMF)"
      ]
    },
    {
      "cell_type": "code",
      "metadata": {
        "id": "UPPD43w7y3cu"
      },
      "source": [
        "# define NeuMF model architecture\n",
        "\n",
        "def get_NeuMF_model(n_users, n_items, MF_dim, MF_reg, MLP_layers, MLP_regs):\n",
        "    \"\"\"\n",
        "    Build Neural Matrix Factorization (NeuMF) Model Topology.\n",
        "    This is stack version of both GMF and MLP\n",
        "    \n",
        "    Parameters\n",
        "    ----------\n",
        "    n_users: int, total number of users\n",
        "    n_iterms: int, total number of items\n",
        "    MF_dim: int, embedded dimension for user vector and item vector in MF\n",
        "    MF_reg: tuple of float, L2 regularization of MF embedded layer\n",
        "    MLP_layers: list of int, each element is the number of hidden units for each MLP layer,\n",
        "        with the exception of first element. First element is the sum of dims of\n",
        "        user latent vector and item latent vector\n",
        "    MLP_regs: list of int, each element is the L2 regularization parameter for\n",
        "        each layer in MLP\n",
        "\n",
        "    Return\n",
        "    ------\n",
        "    A Keras Model with MLP model architeture\n",
        "    \"\"\"\n",
        "    assert len(MLP_layers) == len(MLP_regs)\n",
        "    num_MLP_layer = len(MLP_layers) # Number of layers in the MLP\n",
        "    # Input variables\n",
        "    user_input = Input(shape=(1,), dtype='int32', name='user_input')\n",
        "    item_input = Input(shape=(1,), dtype='int32', name='item_input')\n",
        "\n",
        "    # Embedding layer\n",
        "    \n",
        "    # MF\n",
        "    MF_Embedding_User = Embedding(\n",
        "        input_dim=n_users + 1,\n",
        "        output_dim=MF_dim,\n",
        "        embeddings_initializer='uniform',\n",
        "        name='mf_user_embedding',\n",
        "        embeddings_regularizer=l2(MF_reg[0]),\n",
        "        input_length=1)\n",
        "    MF_Embedding_Item = Embedding(\n",
        "        input_dim=n_items + 1,\n",
        "        output_dim=MF_dim,\n",
        "        embeddings_initializer='uniform',\n",
        "        name='mf_item_embedding',\n",
        "        embeddings_regularizer=l2(MF_reg[1]),\n",
        "        input_length=1)\n",
        "    \n",
        "    # MLP\n",
        "    MLP_Embedding_User = Embedding(\n",
        "        input_dim=n_users + 1,\n",
        "        output_dim=MLP_layers[0] // 2,\n",
        "        embeddings_initializer='uniform',\n",
        "        name='mlp_user_embedding',\n",
        "        embeddings_regularizer=l2(MLP_regs[0]),\n",
        "        input_length=1)\n",
        "    MLP_Embedding_Item = Embedding(\n",
        "        input_dim=n_items + 1,\n",
        "        output_dim=MLP_layers[0] // 2,\n",
        "        embeddings_initializer='uniform',\n",
        "        name='mlp_item_embedding',\n",
        "        embeddings_regularizer=l2(MLP_regs[0]),\n",
        "        input_length=1) \n",
        "    \n",
        "    # MF part\n",
        "    mf_user_latent = Flatten()(MF_Embedding_User(user_input))\n",
        "    mf_item_latent = Flatten()(MF_Embedding_Item(item_input))\n",
        "    mf_vector = Multiply()([mf_user_latent, mf_item_latent])\n",
        "\n",
        "    # MLP part\n",
        "    mlp_user_latent = Flatten()(MLP_Embedding_User(user_input))\n",
        "    mlp_item_latent = Flatten()(MLP_Embedding_Item(item_input))\n",
        "    mlp_vector = Concatenate(axis=-1)([mlp_user_latent, mlp_item_latent])\n",
        "    for idx in range(1, num_MLP_layer):\n",
        "        layer = Dense(\n",
        "            units=MLP_layers[idx],\n",
        "            activation='relu',\n",
        "            kernel_initializer='glorot_uniform',\n",
        "            kernel_regularizer=l2(MLP_regs[idx]),\n",
        "            name = 'layer%d' %idx)\n",
        "        mlp_vector = layer(mlp_vector)\n",
        "    \n",
        "    # Concatenate MF and MLP parts\n",
        "    predict_vector = Concatenate(axis=-1)([mf_vector, mlp_vector])\n",
        "\n",
        "    # Final prediction layer\n",
        "    prediction = Dense(1, kernel_initializer='glorot_uniform', name='prediction')(predict_vector)\n",
        "    \n",
        "    # Stitch input and output\n",
        "    model = Model([user_input, item_input], prediction)\n",
        "    \n",
        "    return model"
      ],
      "execution_count": null,
      "outputs": []
    },
    {
      "cell_type": "code",
      "metadata": {
        "id": "OnXncHNWy5-h",
        "colab": {
          "base_uri": "https://localhost:8080/",
          "height": 782
        },
        "outputId": "8feef6e3-08a9-47ed-9604-380ecbbe7574"
      },
      "source": [
        "# Create NeuMF Model\n",
        "NeuMF_model = get_NeuMF_model(\n",
        "    n_users=n_users,\n",
        "    n_items=n_items,\n",
        "    MF_dim=10,\n",
        "    MF_reg=(0, 0),\n",
        "    MLP_layers=[64, 32, 16, 8],\n",
        "    MLP_regs=[0, 0, 0, 0])\n",
        "NeuMF_model.summary()"
      ],
      "execution_count": null,
      "outputs": [
        {
          "output_type": "stream",
          "text": [
            "Model: \"model_10\"\n",
            "__________________________________________________________________________________________________\n",
            "Layer (type)                    Output Shape         Param #     Connected to                     \n",
            "==================================================================================================\n",
            "user_input (InputLayer)         [(None, 1)]          0                                            \n",
            "__________________________________________________________________________________________________\n",
            "item_input (InputLayer)         [(None, 1)]          0                                            \n",
            "__________________________________________________________________________________________________\n",
            "mlp_user_embedding (Embedding)  (None, 1, 32)        19552       user_input[0][0]                 \n",
            "__________________________________________________________________________________________________\n",
            "mlp_item_embedding (Embedding)  (None, 1, 32)        311200      item_input[0][0]                 \n",
            "__________________________________________________________________________________________________\n",
            "flatten_26 (Flatten)            (None, 32)           0           mlp_user_embedding[0][0]         \n",
            "__________________________________________________________________________________________________\n",
            "flatten_27 (Flatten)            (None, 32)           0           mlp_item_embedding[0][0]         \n",
            "__________________________________________________________________________________________________\n",
            "concatenate_8 (Concatenate)     (None, 64)           0           flatten_26[0][0]                 \n",
            "                                                                 flatten_27[0][0]                 \n",
            "__________________________________________________________________________________________________\n",
            "mf_user_embedding (Embedding)   (None, 1, 10)        6110        user_input[0][0]                 \n",
            "__________________________________________________________________________________________________\n",
            "mf_item_embedding (Embedding)   (None, 1, 10)        97250       item_input[0][0]                 \n",
            "__________________________________________________________________________________________________\n",
            "layer1 (Dense)                  (None, 32)           2080        concatenate_8[0][0]              \n",
            "__________________________________________________________________________________________________\n",
            "flatten_24 (Flatten)            (None, 10)           0           mf_user_embedding[0][0]          \n",
            "__________________________________________________________________________________________________\n",
            "flatten_25 (Flatten)            (None, 10)           0           mf_item_embedding[0][0]          \n",
            "__________________________________________________________________________________________________\n",
            "layer2 (Dense)                  (None, 16)           528         layer1[0][0]                     \n",
            "__________________________________________________________________________________________________\n",
            "multiply_6 (Multiply)           (None, 10)           0           flatten_24[0][0]                 \n",
            "                                                                 flatten_25[0][0]                 \n",
            "__________________________________________________________________________________________________\n",
            "layer3 (Dense)                  (None, 8)            136         layer2[0][0]                     \n",
            "__________________________________________________________________________________________________\n",
            "concatenate_9 (Concatenate)     (None, 18)           0           multiply_6[0][0]                 \n",
            "                                                                 layer3[0][0]                     \n",
            "__________________________________________________________________________________________________\n",
            "prediction (Dense)              (None, 1)            19          concatenate_9[0][0]              \n",
            "==================================================================================================\n",
            "Total params: 436,875\n",
            "Trainable params: 436,875\n",
            "Non-trainable params: 0\n",
            "__________________________________________________________________________________________________\n"
          ],
          "name": "stdout"
        }
      ]
    },
    {
      "cell_type": "code",
      "metadata": {
        "id": "MvTpBdwDy__e",
        "colab": {
          "base_uri": "https://localhost:8080/",
          "height": 513
        },
        "outputId": "f598d796-c3ed-4b86-b65f-0b1d398b805e"
      },
      "source": [
        "#Train NeuMF model\n",
        "# model config\n",
        "BATCH_SIZE = 64\n",
        "EPOCHS = 30\n",
        "VAL_SPLIT = 0.25\n",
        "\n",
        "# train model\n",
        "history = train_model(NeuMF_model, 'adam', BATCH_SIZE, EPOCHS, VAL_SPLIT, \n",
        "                      inputs=[df_train.userId.values, df_train.movieId.values],\n",
        "                      outputs=df_train.rating.values)"
      ],
      "execution_count": null,
      "outputs": [
        {
          "output_type": "stream",
          "text": [
            "Train on 56720 samples, validate on 18907 samples\n",
            "Epoch 1/30\n",
            "56720/56720 [==============================] - 7s 125us/sample - loss: 1.8394 - mean_squared_error: 1.8394 - rmse: 1.1616 - val_loss: 0.7944 - val_mean_squared_error: 0.7944 - val_rmse: 0.8866\n",
            "Epoch 2/30\n",
            "56720/56720 [==============================] - 6s 110us/sample - loss: 0.7230 - mean_squared_error: 0.7230 - rmse: 0.8454 - val_loss: 0.7705 - val_mean_squared_error: 0.7705 - val_rmse: 0.8734\n",
            "Epoch 3/30\n",
            "56720/56720 [==============================] - 6s 108us/sample - loss: 0.6023 - mean_squared_error: 0.6023 - rmse: 0.7710 - val_loss: 0.7711 - val_mean_squared_error: 0.7711 - val_rmse: 0.8734\n",
            "Epoch 4/30\n",
            "56720/56720 [==============================] - 6s 113us/sample - loss: 0.4595 - mean_squared_error: 0.4595 - rmse: 0.6725 - val_loss: 0.8174 - val_mean_squared_error: 0.8174 - val_rmse: 0.8990\n",
            "Epoch 5/30\n",
            "56720/56720 [==============================] - 6s 110us/sample - loss: 0.3714 - mean_squared_error: 0.3714 - rmse: 0.6041 - val_loss: 0.8564 - val_mean_squared_error: 0.8564 - val_rmse: 0.9205\n",
            "Epoch 6/30\n",
            "56720/56720 [==============================] - 6s 110us/sample - loss: 0.3184 - mean_squared_error: 0.3184 - rmse: 0.5594 - val_loss: 0.8851 - val_mean_squared_error: 0.8851 - val_rmse: 0.9351\n",
            "Epoch 7/30\n",
            "56720/56720 [==============================] - 6s 109us/sample - loss: 0.2831 - mean_squared_error: 0.2831 - rmse: 0.5277 - val_loss: 0.9089 - val_mean_squared_error: 0.9089 - val_rmse: 0.9492\n",
            "Epoch 8/30\n",
            "56720/56720 [==============================] - 6s 113us/sample - loss: 0.2558 - mean_squared_error: 0.2558 - rmse: 0.5011 - val_loss: 0.9361 - val_mean_squared_error: 0.9361 - val_rmse: 0.9626\n",
            "Epoch 9/30\n",
            "56720/56720 [==============================] - 7s 116us/sample - loss: 0.2339 - mean_squared_error: 0.2339 - rmse: 0.4790 - val_loss: 0.9655 - val_mean_squared_error: 0.9655 - val_rmse: 0.9772\n",
            "Epoch 10/30\n",
            "56720/56720 [==============================] - 7s 115us/sample - loss: 0.2139 - mean_squared_error: 0.2139 - rmse: 0.4580 - val_loss: 0.9823 - val_mean_squared_error: 0.9823 - val_rmse: 0.9855\n",
            "Epoch 11/30\n",
            "56720/56720 [==============================] - 6s 111us/sample - loss: 0.1956 - mean_squared_error: 0.1956 - rmse: 0.4380 - val_loss: 1.0046 - val_mean_squared_error: 1.0046 - val_rmse: 0.9964\n",
            "Epoch 12/30\n",
            "56720/56720 [==============================] - 6s 107us/sample - loss: 0.1800 - mean_squared_error: 0.1800 - rmse: 0.4201 - val_loss: 1.0217 - val_mean_squared_error: 1.0217 - val_rmse: 1.0046\n",
            "Epoch 13/30\n",
            "56720/56720 [==============================] - 6s 110us/sample - loss: 0.1664 - mean_squared_error: 0.1664 - rmse: 0.4039 - val_loss: 1.0425 - val_mean_squared_error: 1.0425 - val_rmse: 1.0152\n",
            "Epoch 00013: early stopping\n"
          ],
          "name": "stdout"
        }
      ]
    },
    {
      "cell_type": "code",
      "metadata": {
        "id": "_OKxIaWYzCnT",
        "colab": {
          "base_uri": "https://localhost:8080/",
          "height": 458
        },
        "outputId": "8e293886-a884-4931-fef0-0366ca3bedec"
      },
      "source": [
        "# NeuMF Learning Curve\n",
        "plot_learning_curve(history,'rmse')"
      ],
      "execution_count": null,
      "outputs": [
        {
          "output_type": "display_data",
          "data": {
            "image/png": "[encoded data removed]",
            "text/plain": [
              "<Figure size 864x504 with 1 Axes>"
            ]
          },
          "metadata": {
            "tags": []
          }
        }
      ]
    },
    {
      "cell_type": "code",
      "metadata": {
        "id": "qUE1lEv4zEpk",
        "colab": {
          "base_uri": "https://localhost:8080/",
          "height": 34
        },
        "outputId": "962e6817-bfa4-4a69-b535-d3fe86b4ed58"
      },
      "source": [
        "#NeuMF Model Testing\n",
        "# load best model\n",
        "NeuMF_model = get_NeuMF_model(\n",
        "    n_users=n_users,\n",
        "    n_items=n_items,\n",
        "    MF_dim=10,\n",
        "    MF_reg=(0, 0),\n",
        "    MLP_layers=[64, 32, 16, 8],\n",
        "    MLP_regs=[0, 0, 0, 0])\n",
        "NeuMF_model = load_trained_model(NeuMF_model, os.path.join(data_path, '/tmp/model.hdf5'))\n",
        "# make prediction using test data\n",
        "predictions = NeuMF_model.predict([df_test.userId.values, df_test.movieId.values])\n",
        "# get the RMSE\n",
        "error = rmse(df_test.rating.values, predictions)\n",
        "print('The best RMSE of rating predictions is', round(error, 4))"
      ],
      "execution_count": null,
      "outputs": [
        {
          "output_type": "stream",
          "text": [
            "The out-of-sample RMSE of rating predictions is 0.8869\n"
          ],
          "name": "stdout"
        }
      ]
    }
  ]
}