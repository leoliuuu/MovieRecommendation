{
  "nbformat": 4,
  "nbformat_minor": 0,
  "metadata": {
    "colab": {
      "name": "MovieLens Collaborative Filtering.ipynb",
      "provenance": [],
      "collapsed_sections": [],
      "toc_visible": true,
      "include_colab_link": true
    },
    "kernelspec": {
      "name": "python3",
      "display_name": "Python 3"
    },
    "accelerator": "GPU"
  },
  "cells": [
    {
      "cell_type": "markdown",
      "metadata": {
        "id": "view-in-github",
        "colab_type": "text"
      },
      "source": [
        "<a href=\"https://colab.research.google.com/github/leoliuuu/MovieRecommendation/blob/main/MovieLens_Collaborative_Filtering.ipynb\" target=\"_parent\"><img src=\"https://colab.research.google.com/assets/colab-badge.svg\" alt=\"Open In Colab\"/></a>"
      ]
    },
    {
      "cell_type": "code",
      "metadata": {
        "id": "SdF5SSQQNrdA"
      },
      "source": [
        "import os\n",
        "import numpy as np\n",
        "import pandas as pd\n",
        "import gdown\n",
        "from sklearn.model_selection import train_test_split\n",
        "from tensorflow.keras.layers import Input, Embedding, Flatten, Dense, Multiply, Concatenate\n",
        "from tensorflow.keras.regularizers import l2\n",
        "from tensorflow.keras.models import Model\n",
        "from tensorflow.keras.callbacks import EarlyStopping, ModelCheckpoint\n",
        "import tensorflow.keras.backend as K\n",
        "from tensorflow.keras.models import load_model\n",
        "import matplotlib.pyplot as plt\n",
        "import seaborn as sns\n",
        "import h5py\n",
        "import warnings\n",
        "warnings.filterwarnings('ignore')"
      ],
      "execution_count": null,
      "outputs": []
    },
    {
      "cell_type": "code",
      "metadata": {
        "id": "v-XroMF-CHdt",
        "colab": {
          "base_uri": "https://localhost:8080/",
          "height": 122
        },
        "outputId": "fee3f5f4-e92c-4775-a82c-abcb1b0624f9"
      },
      "source": [
        "from google.colab import drive\n",
        "drive.mount('/content/drive')"
      ],
      "execution_count": null,
      "outputs": [
        {
          "output_type": "stream",
          "text": [
            "Go to this URL in a browser: https://accounts.google.com/o/oauth2/auth?client_id=947318989803-6bn6qk8qdgf4n4g3pfee6491hc0brc4i.apps.googleusercontent.com&redirect_uri=urn%3aietf%3awg%3aoauth%3a2.0%3aoob&response_type=code&scope=email%20https%3a%2f%2fwww.googleapis.com%2fauth%2fdocs.test%20https%3a%2f%2fwww.googleapis.com%2fauth%2fdrive%20https%3a%2f%2fwww.googleapis.com%2fauth%2fdrive.photos.readonly%20https%3a%2f%2fwww.googleapis.com%2fauth%2fpeopleapi.readonly\n",
            "\n",
            "Enter your authorization code:\n",
            "··········\n",
            "Mounted at /content/drive\n"
          ],
          "name": "stdout"
        }
      ]
    },
    {
      "cell_type": "markdown",
      "metadata": {
        "id": "2aEkjx8iPDhY"
      },
      "source": [
        "# Load the Data"
      ]
    },
    {
      "cell_type": "code",
      "metadata": {
        "id": "rZRlj8K0NtJ4",
        "colab": {
          "base_uri": "https://localhost:8080/",
          "height": 85
        },
        "outputId": "cd666c18-8334-4826-9237-ca53f85668b4"
      },
      "source": [
        "# Download the zip file from google drive and unzip it\n",
        "gdown.download('https://drive.google.com/uc?authuser=0&id=1oP_H072BGA1KSuY-PbwlYkTaEFE1W3eP&export=download', 'ml-latest-small.zip', quiet=False)\n",
        "!unzip -qq ml-latest-small.zip"
      ],
      "execution_count": null,
      "outputs": [
        {
          "output_type": "stream",
          "text": [
            "Downloading...\n",
            "From: https://drive.google.com/uc?authuser=0&id=1oP_H072BGA1KSuY-PbwlYkTaEFE1W3eP&export=download\n",
            "To: /content/ml-latest-small.zip\n",
            "100%|██████████| 978k/978k [00:00<00:00, 96.0MB/s]\n"
          ],
          "name": "stderr"
        }
      ]
    },
    {
      "cell_type": "code",
      "metadata": {
        "id": "cefH2k_L6HH9",
        "colab": {
          "base_uri": "https://localhost:8080/",
          "height": 255
        },
        "outputId": "d70d9448-2ca0-4776-ad29-e0b9f714b25a"
      },
      "source": [
        "data_path = \"ml-latest-small/\"\n",
        "\n",
        "df_ratings = pd.read_csv(\n",
        "    os.path.join(data_path, 'ratings.csv'),\n",
        "    usecols=['userId', 'movieId', 'rating'],\n",
        "    dtype={'userId': 'int32', 'movieId': 'int32', 'rating': 'float32'})\n",
        "\n",
        "df_ratings.head  "
      ],
      "execution_count": null,
      "outputs": [
        {
          "output_type": "execute_result",
          "data": {
            "text/plain": [
              "<bound method NDFrame.head of         userId  movieId  rating\n",
              "0            1        1     4.0\n",
              "1            1        3     4.0\n",
              "2            1        6     4.0\n",
              "3            1       47     5.0\n",
              "4            1       50     5.0\n",
              "...        ...      ...     ...\n",
              "100831     610   166534     4.0\n",
              "100832     610   168248     5.0\n",
              "100833     610   168250     5.0\n",
              "100834     610   168252     5.0\n",
              "100835     610   170875     3.0\n",
              "\n",
              "[100836 rows x 3 columns]>"
            ]
          },
          "metadata": {
            "tags": []
          },
          "execution_count": 76
        }
      ]
    },
    {
      "cell_type": "code",
      "metadata": {
        "id": "LCwxqO1j0hCm",
        "colab": {
          "base_uri": "https://localhost:8080/",
          "height": 51
        },
        "outputId": "081b6ee4-62be-4625-edf6-2019821e121a"
      },
      "source": [
        "n_users = len(df_ratings.userId.unique())\n",
        "n_items = len(df_ratings.movieId.unique())\n",
        "\n",
        "print('Unique Users:{};   Unique Movies:{}'.format(n_users,n_items))\n",
        "\n",
        "user_maxId = df_ratings.userId.max()\n",
        "item_maxId = df_ratings.movieId.max()\n",
        "\n",
        "print('Max of User ID: {};  Max of Movie ID: {}'.format(user_maxId,item_maxId))"
      ],
      "execution_count": null,
      "outputs": [
        {
          "output_type": "stream",
          "text": [
            "Unique Users:610;   Unique Movies:9724\n",
            "Max of User ID: 610;  Max of Movie ID: 193609\n"
          ],
          "name": "stdout"
        }
      ]
    },
    {
      "cell_type": "code",
      "metadata": {
        "id": "OvRbgIen1RJc"
      },
      "source": [
        "# Dimensional Space Reduction for matrix factorization\n",
        "\n",
        "def reduce_item_dim(df_ratings):\n",
        "    \"\"\"\n",
        "    Reduce item vector dimension to the number of distinct items in our data sets\n",
        "    \n",
        "    input: pd.DataFrame, df_ratings should have columns ['userId', 'movieId', 'rating']\n",
        "    output: pd.DataFrame, df_ratings with new 'MovieID' that is compressed\n",
        "    \"\"\"\n",
        "    # pivot\n",
        "    df_user_item = df_ratings.pivot(index='userId', columns='movieId', values='rating')\n",
        "    # reset movieId\n",
        "    df_user_item = df_user_item.T.reset_index(drop=True).T\n",
        "    # undo pivot/melt - compress data frame\n",
        "    df_ratings_new = df_user_item \\\n",
        "        .reset_index('userId') \\\n",
        "        .melt(\n",
        "            id_vars='userId', \n",
        "            value_vars=df_user_item.columns,\n",
        "            var_name='movieId',\n",
        "            value_name='rating')\n",
        "    # drop nan and final clean up\n",
        "    return df_ratings_new.dropna().sort_values(['userId', 'movieId']).reset_index(drop=True)"
      ],
      "execution_count": null,
      "outputs": []
    },
    {
      "cell_type": "code",
      "metadata": {
        "id": "iTbUka_54P4H",
        "colab": {
          "base_uri": "https://localhost:8080/",
          "height": 221
        },
        "outputId": "e00a39f4-af5a-439d-b22f-0bddad1e4e47"
      },
      "source": [
        "print('reduce item dimension before:')\n",
        "df_ratings.head()"
      ],
      "execution_count": null,
      "outputs": [
        {
          "output_type": "stream",
          "text": [
            "reduce item dimension before:\n"
          ],
          "name": "stdout"
        },
        {
          "output_type": "execute_result",
          "data": {
            "text/html": [
              "<div>\n",
              "<style scoped>\n",
              "    .dataframe tbody tr th:only-of-type {\n",
              "        vertical-align: middle;\n",
              "    }\n",
              "\n",
              "    .dataframe tbody tr th {\n",
              "        vertical-align: top;\n",
              "    }\n",
              "\n",
              "    .dataframe thead th {\n",
              "        text-align: right;\n",
              "    }\n",
              "</style>\n",
              "<table border=\"1\" class=\"dataframe\">\n",
              "  <thead>\n",
              "    <tr style=\"text-align: right;\">\n",
              "      <th></th>\n",
              "      <th>userId</th>\n",
              "      <th>movieId</th>\n",
              "      <th>rating</th>\n",
              "    </tr>\n",
              "  </thead>\n",
              "  <tbody>\n",
              "    <tr>\n",
              "      <th>0</th>\n",
              "      <td>1</td>\n",
              "      <td>1</td>\n",
              "      <td>4.0</td>\n",
              "    </tr>\n",
              "    <tr>\n",
              "      <th>1</th>\n",
              "      <td>1</td>\n",
              "      <td>3</td>\n",
              "      <td>4.0</td>\n",
              "    </tr>\n",
              "    <tr>\n",
              "      <th>2</th>\n",
              "      <td>1</td>\n",
              "      <td>6</td>\n",
              "      <td>4.0</td>\n",
              "    </tr>\n",
              "    <tr>\n",
              "      <th>3</th>\n",
              "      <td>1</td>\n",
              "      <td>47</td>\n",
              "      <td>5.0</td>\n",
              "    </tr>\n",
              "    <tr>\n",
              "      <th>4</th>\n",
              "      <td>1</td>\n",
              "      <td>50</td>\n",
              "      <td>5.0</td>\n",
              "    </tr>\n",
              "  </tbody>\n",
              "</table>\n",
              "</div>"
            ],
            "text/plain": [
              "   userId  movieId  rating\n",
              "0       1        1     4.0\n",
              "1       1        3     4.0\n",
              "2       1        6     4.0\n",
              "3       1       47     5.0\n",
              "4       1       50     5.0"
            ]
          },
          "metadata": {
            "tags": []
          },
          "execution_count": 12
        }
      ]
    },
    {
      "cell_type": "code",
      "metadata": {
        "id": "1rsDJS-Z46Ub",
        "colab": {
          "base_uri": "https://localhost:8080/",
          "height": 221
        },
        "outputId": "6012be77-e47a-4feb-9564-e995789a10c7"
      },
      "source": [
        "df_ratings = reduce_item_dim(df_ratings)\n",
        "\n",
        "print('reduce item dimension after:')\n",
        "df_ratings.head()"
      ],
      "execution_count": null,
      "outputs": [
        {
          "output_type": "stream",
          "text": [
            "reduce item dimension after:\n"
          ],
          "name": "stdout"
        },
        {
          "output_type": "execute_result",
          "data": {
            "text/html": [
              "<div>\n",
              "<style scoped>\n",
              "    .dataframe tbody tr th:only-of-type {\n",
              "        vertical-align: middle;\n",
              "    }\n",
              "\n",
              "    .dataframe tbody tr th {\n",
              "        vertical-align: top;\n",
              "    }\n",
              "\n",
              "    .dataframe thead th {\n",
              "        text-align: right;\n",
              "    }\n",
              "</style>\n",
              "<table border=\"1\" class=\"dataframe\">\n",
              "  <thead>\n",
              "    <tr style=\"text-align: right;\">\n",
              "      <th></th>\n",
              "      <th>userId</th>\n",
              "      <th>movieId</th>\n",
              "      <th>rating</th>\n",
              "    </tr>\n",
              "  </thead>\n",
              "  <tbody>\n",
              "    <tr>\n",
              "      <th>0</th>\n",
              "      <td>1</td>\n",
              "      <td>0</td>\n",
              "      <td>4.0</td>\n",
              "    </tr>\n",
              "    <tr>\n",
              "      <th>1</th>\n",
              "      <td>1</td>\n",
              "      <td>2</td>\n",
              "      <td>4.0</td>\n",
              "    </tr>\n",
              "    <tr>\n",
              "      <th>2</th>\n",
              "      <td>1</td>\n",
              "      <td>5</td>\n",
              "      <td>4.0</td>\n",
              "    </tr>\n",
              "    <tr>\n",
              "      <th>3</th>\n",
              "      <td>1</td>\n",
              "      <td>43</td>\n",
              "      <td>5.0</td>\n",
              "    </tr>\n",
              "    <tr>\n",
              "      <th>4</th>\n",
              "      <td>1</td>\n",
              "      <td>46</td>\n",
              "      <td>5.0</td>\n",
              "    </tr>\n",
              "  </tbody>\n",
              "</table>\n",
              "</div>"
            ],
            "text/plain": [
              "   userId movieId  rating\n",
              "0       1       0     4.0\n",
              "1       1       2     4.0\n",
              "2       1       5     4.0\n",
              "3       1      43     5.0\n",
              "4       1      46     5.0"
            ]
          },
          "metadata": {
            "tags": []
          },
          "execution_count": 13
        }
      ]
    },
    {
      "cell_type": "code",
      "metadata": {
        "id": "K61PNisf6eck",
        "colab": {
          "base_uri": "https://localhost:8080/",
          "height": 51
        },
        "outputId": "c7a00dc1-7c33-4496-e036-4426e8a0d812"
      },
      "source": [
        "# train/test data split\n",
        "\n",
        "df_train, df_test = train_test_split(df_ratings,test_size=0.25,shuffle=True, random_state = 88)\n",
        "print('shape of training data set:', df_train.shape)\n",
        "print('shape of test data set:', df_test.shape)"
      ],
      "execution_count": null,
      "outputs": [
        {
          "output_type": "stream",
          "text": [
            "shape of training data set: (75627, 3)\n",
            "shape of test data set: (25209, 3)\n"
          ],
          "name": "stdout"
        }
      ]
    },
    {
      "cell_type": "markdown",
      "metadata": {
        "id": "qfeE2Qro7KGZ"
      },
      "source": [
        "#Generalized Matrix Factorization and Test Model"
      ]
    },
    {
      "cell_type": "code",
      "metadata": {
        "id": "RurMbtC07P_Z"
      },
      "source": [
        "def get_GMF_model(n_users, n_items, latent_dim, vu_reg, vi_reg):   \n",
        "    \"\"\"\n",
        "    Build Generalized Matrix Factorization Model Topology\n",
        "    \n",
        "    Parameters\n",
        "    ----------\n",
        "    num_users: int, total number of users\n",
        "    num_iterms: int, total number of items\n",
        "    latent_dim: int, embedded dimension for user vector and item vector\n",
        "    vu_reg: float, L2 regularization of user embedded layer\n",
        "    vi_reg: float, L2 regularization of item embedded layer\n",
        "\n",
        "    Return\n",
        "    ------\n",
        "    A Keras Model with GMF model architeture\n",
        "    \"\"\"\n",
        "    # Input variables\n",
        "    user_input = Input(shape=(1,), dtype='int32', name='user_input')\n",
        "    item_input = Input(shape=(1,), dtype='int32', name='item_input')\n",
        "\n",
        "    MF_Embedding_User = Embedding(\n",
        "        input_dim=n_users + 1,\n",
        "        output_dim=latent_dim,\n",
        "        embeddings_initializer='uniform',\n",
        "        name='user_embedding',\n",
        "        embeddings_regularizer=l2(vu_reg),\n",
        "        input_length=1)\n",
        "    MF_Embedding_Item = Embedding(\n",
        "        input_dim=n_items + 1,\n",
        "        output_dim=latent_dim,\n",
        "        embeddings_initializer='uniform',\n",
        "        name='item_embedding',\n",
        "        embeddings_regularizer=l2(vi_reg),\n",
        "        input_length=1) \n",
        "    \n",
        "    # Crucial to flatten an embedding vector!\n",
        "    user_latent = Flatten()(MF_Embedding_User(user_input))\n",
        "    item_latent = Flatten()(MF_Embedding_Item(item_input))\n",
        "\n",
        "    # Element-wise product of user and item embeddings \n",
        "    predict_vector = Multiply()([user_latent, item_latent])\n",
        "    \n",
        "    # Final prediction layer\n",
        "    prediction = Dense(1, kernel_initializer='glorot_uniform', name='prediction')(predict_vector)\n",
        "    \n",
        "    # Stitch input and output\n",
        "    model = Model([user_input, item_input], prediction)\n",
        "    \n",
        "    return model\n",
        "\n",
        "\n",
        "def train_model(model, learner, batch_size, epochs, val_split, inputs, outputs):\n",
        "    \"\"\"\n",
        "    define training routine, train models and save best model\n",
        "    \n",
        "    Parameters\n",
        "    ----------\n",
        "    model: a Keras model\n",
        "    learner: str, one of ['sgd', 'adam', 'rmsprop', 'adagrad']\n",
        "    batch_size: num samples per update\n",
        "    epochs: num iterations\n",
        "    val_split: split ratio for validation data\n",
        "    inputs: inputs data\n",
        "    outputs: outputs data\n",
        "    \"\"\"\n",
        "    # add customized metric\n",
        "    def rmse(y_true, y_pred):\n",
        "        return K.sqrt(K.mean(K.square(y_true - y_pred)))\n",
        "    \n",
        "    # compile model\n",
        "    model.compile(optimizer=learner.lower(), loss='mean_squared_error', metrics=['mean_squared_error', rmse])\n",
        "    \n",
        "    # add call backs\n",
        "    early_stopper = EarlyStopping(monitor='val_rmse', patience=10, verbose=1)\n",
        "    model_saver = ModelCheckpoint(filepath=os.path.join(data_path, '/tmp/model.hdf5'),\n",
        "                                  monitor='val_rmse',\n",
        "                                  save_best_only=True,\n",
        "                                  save_weights_only=True)\n",
        "    # train model\n",
        "    history = model.fit(inputs, outputs,\n",
        "                        batch_size=batch_size,\n",
        "                        epochs=epochs,\n",
        "                        validation_split=val_split,\n",
        "                        callbacks=[early_stopper, model_saver])\n",
        "    return history\n",
        "\n",
        "\n",
        "def load_trained_model(model, weights_path):\n",
        "    model.load_weights(weights_path)\n",
        "    return model"
      ],
      "execution_count": null,
      "outputs": []
    },
    {
      "cell_type": "code",
      "metadata": {
        "id": "FIHOnz8T6nEY",
        "colab": {
          "base_uri": "https://localhost:8080/",
          "height": 442
        },
        "outputId": "2f35120d-d385-4003-843c-be71e98f0b93"
      },
      "source": [
        "# Create GMF Model\n",
        "\n",
        "GMF_model = get_GMF_model(n_users,n_items,10,0,0)\n",
        "GMF_model.summary()"
      ],
      "execution_count": null,
      "outputs": [
        {
          "output_type": "stream",
          "text": [
            "Model: \"model_10\"\n",
            "__________________________________________________________________________________________________\n",
            "Layer (type)                    Output Shape         Param #     Connected to                     \n",
            "==================================================================================================\n",
            "user_input (InputLayer)         [(None, 1)]          0                                            \n",
            "__________________________________________________________________________________________________\n",
            "item_input (InputLayer)         [(None, 1)]          0                                            \n",
            "__________________________________________________________________________________________________\n",
            "user_embedding (Embedding)      (None, 1, 10)        6110        user_input[0][0]                 \n",
            "__________________________________________________________________________________________________\n",
            "item_embedding (Embedding)      (None, 1, 10)        97250       item_input[0][0]                 \n",
            "__________________________________________________________________________________________________\n",
            "flatten_20 (Flatten)            (None, 10)           0           user_embedding[0][0]             \n",
            "__________________________________________________________________________________________________\n",
            "flatten_21 (Flatten)            (None, 10)           0           item_embedding[0][0]             \n",
            "__________________________________________________________________________________________________\n",
            "multiply_10 (Multiply)          (None, 10)           0           flatten_20[0][0]                 \n",
            "                                                                 flatten_21[0][0]                 \n",
            "__________________________________________________________________________________________________\n",
            "prediction (Dense)              (None, 1)            11          multiply_10[0][0]                \n",
            "==================================================================================================\n",
            "Total params: 103,371\n",
            "Trainable params: 103,371\n",
            "Non-trainable params: 0\n",
            "__________________________________________________________________________________________________\n"
          ],
          "name": "stdout"
        }
      ]
    },
    {
      "cell_type": "code",
      "metadata": {
        "id": "-zw-Eiz_96iE",
        "colab": {
          "base_uri": "https://localhost:8080/",
          "height": 683
        },
        "outputId": "c3e1d930-6ee7-413d-ad3c-f9b0fa4a55ec"
      },
      "source": [
        "# Train GMF Model\n",
        "\n",
        "# model config\n",
        "batch_size = 64\n",
        "epochs = 30\n",
        "val_split = 0.25\n",
        "\n",
        "#train model\n",
        "history = train_model(GMF_model,'adam',batch_size, epochs, val_split,\n",
        "                      inputs=[df_train.userId.values, df_train.movieId.values],\n",
        "                      outputs=df_train.rating.values)"
      ],
      "execution_count": null,
      "outputs": [
        {
          "output_type": "stream",
          "text": [
            "Train on 56720 samples, validate on 18907 samples\n",
            "Epoch 1/30\n",
            "56720/56720 [==============================] - 3s 59us/sample - loss: 10.0604 - mean_squared_error: 10.0604 - rmse: 3.1479 - val_loss: 5.2264 - val_mean_squared_error: 5.2264 - val_rmse: 2.2833\n",
            "Epoch 2/30\n",
            "56720/56720 [==============================] - 3s 55us/sample - loss: 2.4838 - mean_squared_error: 2.4838 - rmse: 1.5482 - val_loss: 1.6326 - val_mean_squared_error: 1.6326 - val_rmse: 1.2725\n",
            "Epoch 3/30\n",
            "56720/56720 [==============================] - 3s 58us/sample - loss: 1.1643 - mean_squared_error: 1.1643 - rmse: 1.0732 - val_loss: 1.1933 - val_mean_squared_error: 1.1933 - val_rmse: 1.0864\n",
            "Epoch 4/30\n",
            "56720/56720 [==============================] - 3s 54us/sample - loss: 0.8713 - mean_squared_error: 0.8713 - rmse: 0.9280 - val_loss: 1.0559 - val_mean_squared_error: 1.0559 - val_rmse: 1.0216\n",
            "Epoch 5/30\n",
            "56720/56720 [==============================] - 3s 53us/sample - loss: 0.7501 - mean_squared_error: 0.7501 - rmse: 0.8612 - val_loss: 1.0009 - val_mean_squared_error: 1.0009 - val_rmse: 0.9947\n",
            "Epoch 6/30\n",
            "56720/56720 [==============================] - 3s 51us/sample - loss: 0.6850 - mean_squared_error: 0.6850 - rmse: 0.8230 - val_loss: 0.9759 - val_mean_squared_error: 0.9759 - val_rmse: 0.9824\n",
            "Epoch 7/30\n",
            "56720/56720 [==============================] - 3s 50us/sample - loss: 0.6413 - mean_squared_error: 0.6413 - rmse: 0.7960 - val_loss: 0.9668 - val_mean_squared_error: 0.9668 - val_rmse: 0.9776\n",
            "Epoch 8/30\n",
            "56720/56720 [==============================] - 3s 53us/sample - loss: 0.6083 - mean_squared_error: 0.6083 - rmse: 0.7750 - val_loss: 0.9636 - val_mean_squared_error: 0.9636 - val_rmse: 0.9752\n",
            "Epoch 9/30\n",
            "56720/56720 [==============================] - 3s 55us/sample - loss: 0.5804 - mean_squared_error: 0.5804 - rmse: 0.7565 - val_loss: 0.9636 - val_mean_squared_error: 0.9636 - val_rmse: 0.9753\n",
            "Epoch 10/30\n",
            "56720/56720 [==============================] - 3s 57us/sample - loss: 0.5523 - mean_squared_error: 0.5523 - rmse: 0.7383 - val_loss: 0.9701 - val_mean_squared_error: 0.9701 - val_rmse: 0.9793\n",
            "Epoch 11/30\n",
            "56720/56720 [==============================] - 3s 53us/sample - loss: 0.5249 - mean_squared_error: 0.5249 - rmse: 0.7191 - val_loss: 0.9763 - val_mean_squared_error: 0.9763 - val_rmse: 0.9823\n",
            "Epoch 12/30\n",
            "56720/56720 [==============================] - 3s 53us/sample - loss: 0.4953 - mean_squared_error: 0.4953 - rmse: 0.6990 - val_loss: 0.9845 - val_mean_squared_error: 0.9845 - val_rmse: 0.9862\n",
            "Epoch 13/30\n",
            "56720/56720 [==============================] - 3s 52us/sample - loss: 0.4668 - mean_squared_error: 0.4668 - rmse: 0.6785 - val_loss: 0.9975 - val_mean_squared_error: 0.9975 - val_rmse: 0.9927\n",
            "Epoch 14/30\n",
            "56720/56720 [==============================] - 3s 54us/sample - loss: 0.4394 - mean_squared_error: 0.4394 - rmse: 0.6575 - val_loss: 1.0109 - val_mean_squared_error: 1.0109 - val_rmse: 0.9987\n",
            "Epoch 15/30\n",
            "56720/56720 [==============================] - 3s 57us/sample - loss: 0.4132 - mean_squared_error: 0.4132 - rmse: 0.6379 - val_loss: 1.0248 - val_mean_squared_error: 1.0248 - val_rmse: 1.0045\n",
            "Epoch 16/30\n",
            "56720/56720 [==============================] - 3s 55us/sample - loss: 0.3897 - mean_squared_error: 0.3897 - rmse: 0.6193 - val_loss: 1.0477 - val_mean_squared_error: 1.0477 - val_rmse: 1.0172\n",
            "Epoch 17/30\n",
            "56720/56720 [==============================] - 3s 52us/sample - loss: 0.3691 - mean_squared_error: 0.3691 - rmse: 0.6024 - val_loss: 1.0618 - val_mean_squared_error: 1.0618 - val_rmse: 1.0240\n",
            "Epoch 18/30\n",
            "56720/56720 [==============================] - 3s 52us/sample - loss: 0.3509 - mean_squared_error: 0.3509 - rmse: 0.5876 - val_loss: 1.0779 - val_mean_squared_error: 1.0779 - val_rmse: 1.0317\n",
            "Epoch 00018: early stopping\n"
          ],
          "name": "stdout"
        }
      ]
    },
    {
      "cell_type": "code",
      "metadata": {
        "id": "GHjp4HDfDp0i",
        "colab": {
          "base_uri": "https://localhost:8080/",
          "height": 458
        },
        "outputId": "1dae1e7e-e40c-450e-e6fe-56cffc57e97a"
      },
      "source": [
        "# GMF Learning Curve\n",
        "\n",
        "def plot_learning_curve(history, metric):\n",
        "    \"\"\"\n",
        "    Plot learning curve to compare training error vs. validation error\n",
        "    \"\"\"\n",
        "    # get training error\n",
        "    errors = history.history[metric]\n",
        "    # get validation error\n",
        "    val_errors = history.history['val_{}'.format(metric)]\n",
        "    # get epochs\n",
        "    epochs = range(1, len(errors) + 1)\n",
        "\n",
        "    # plot\n",
        "    plt.figure(figsize=(12, 7))\n",
        "    plt.plot(epochs, errors, 'bo', label='training {}'.format(metric))\n",
        "    plt.plot(epochs, val_errors, 'b', label='validation {}'.format(metric))\n",
        "    plt.xlabel('number of epochs')\n",
        "    plt.ylabel(metric)\n",
        "    plt.title('Model Learning Curve')\n",
        "    plt.grid(True)\n",
        "    plt.legend()\n",
        "    plt.show()\n",
        "\n",
        "plot_learning_curve(history,'rmse')"
      ],
      "execution_count": null,
      "outputs": [
        {
          "output_type": "display_data",
          "data": {
            "image/png": "[encoded data removed]",
            "text/plain": [
              "<Figure size 864x504 with 1 Axes>"
            ]
          },
          "metadata": {
            "tags": []
          }
        }
      ]
    },
    {
      "cell_type": "code",
      "metadata": {
        "id": "twX8Rn_eD7Bm",
        "colab": {
          "base_uri": "https://localhost:8080/",
          "height": 34
        },
        "outputId": "bb90d5de-bb8e-473e-f8fe-ffccae069a48"
      },
      "source": [
        "# Model Testing\n",
        "\n",
        "rmse = lambda true, pred: np.sqrt(np.mean(np.square(np.squeeze(predictions) - np.squeeze(df_test.rating.values))))\n",
        "\n",
        "# load best model\n",
        "GMF_model = get_GMF_model(n_users, n_items, 10, 0, 0)\n",
        "GMF_model = load_trained_model(GMF_model, os.path.join(data_path, '/tmp/model.hdf5'))\n",
        "# make prediction using test data\n",
        "predictions = GMF_model.predict([df_test.userId.values, df_test.movieId.values])\n",
        "# get the RMSE\n",
        "error = rmse(df_test.rating.values, predictions)\n",
        "print('The out-of-sample RMSE of rating predictions is', round(error, 4))"
      ],
      "execution_count": null,
      "outputs": [
        {
          "output_type": "stream",
          "text": [
            "The out-of-sample RMSE of rating predictions is 0.9871\n"
          ],
          "name": "stdout"
        }
      ]
    },
    {
      "cell_type": "markdown",
      "metadata": {
        "id": "6KvTMc5KLe2D"
      },
      "source": [
        "# Multi-Layer Perceptron Model and Test Model"
      ]
    },
    {
      "cell_type": "code",
      "metadata": {
        "id": "gi7AEWuBLkTD"
      },
      "source": [
        "# define MLP model architecture\n",
        "\n",
        "def get_MLP_model(n_users, n_items, layers, reg_layers):\n",
        "    \"\"\"\n",
        "    Build Multi-Layer Perceptron Model Topology\n",
        "    \n",
        "    Parameters\n",
        "    ----------\n",
        "    num_users: int, total number of users\n",
        "    num_iterms: int, total number of items\n",
        "    layers: list of int, each element is the number of hidden units for each layer,\n",
        "        with the exception of first element. First element is the sum of dims of\n",
        "        user latent vector and item latent vector\n",
        "    reg_layers: list of int, each element is the L2 regularization parameter for\n",
        "        each layer in MLP\n",
        "\n",
        "    Return\n",
        "    ------\n",
        "    A Keras Model with MLP model architeture\n",
        "    \"\"\"\n",
        "    assert len(layers) == len(reg_layers)\n",
        "    num_layer = len(layers) # Number of layers in the MLP\n",
        "    # Input variables\n",
        "    user_input = Input(shape=(1,), dtype='int32', name='user_input')\n",
        "    item_input = Input(shape=(1,), dtype='int32', name='item_input')\n",
        "\n",
        "    MLP_Embedding_User = Embedding(\n",
        "        input_dim=n_users + 1,\n",
        "        output_dim=layers[0] // 2,\n",
        "        embeddings_initializer='uniform',\n",
        "        name='user_embedding',\n",
        "        embeddings_regularizer=l2(reg_layers[0]),\n",
        "        input_length=1)\n",
        "    MLP_Embedding_Item = Embedding(\n",
        "        input_dim=n_items + 1,\n",
        "        output_dim=layers[0] // 2,\n",
        "        embeddings_initializer='uniform',\n",
        "        name='item_embedding',\n",
        "        embeddings_regularizer=l2(reg_layers[0]),\n",
        "        input_length=1) \n",
        "    \n",
        "    # Crucial to flatten an embedding vector!\n",
        "    user_latent = Flatten()(MLP_Embedding_User(user_input))\n",
        "    item_latent = Flatten()(MLP_Embedding_Item(item_input))\n",
        "\n",
        "    # The 0-th layer is the concatenation of embedding layers\n",
        "    vector = Concatenate(axis=-1)([user_latent, item_latent])\n",
        "\n",
        "    # MLP layers\n",
        "    for idx in range(1, num_layer):\n",
        "        layer = Dense(\n",
        "            units=layers[idx],\n",
        "            activation='relu',\n",
        "            kernel_initializer='glorot_uniform',\n",
        "            kernel_regularizer=l2(reg_layers[idx]),\n",
        "            name = 'layer%d' %idx)\n",
        "        vector = layer(vector)\n",
        "    \n",
        "    # Final prediction layer\n",
        "    prediction = Dense(1, kernel_initializer='glorot_uniform', name='prediction')(vector)\n",
        "    \n",
        "    # Stitch input and output\n",
        "    model = Model([user_input, item_input], prediction)\n",
        "    \n",
        "    return model"
      ],
      "execution_count": null,
      "outputs": []
    },
    {
      "cell_type": "code",
      "metadata": {
        "id": "AMfYvS7TLtQ0",
        "colab": {
          "base_uri": "https://localhost:8080/",
          "height": 544
        },
        "outputId": "512776d5-ea9d-406b-aa8d-3c1101aaf757"
      },
      "source": [
        "# create MLP model\n",
        "\n",
        "MLP_model = get_MLP_model(n_users, n_items, [64, 32, 16, 8], [0, 0, 0, 0])\n",
        "MLP_model.summary()"
      ],
      "execution_count": null,
      "outputs": [
        {
          "output_type": "stream",
          "text": [
            "Model: \"model_13\"\n",
            "__________________________________________________________________________________________________\n",
            "Layer (type)                    Output Shape         Param #     Connected to                     \n",
            "==================================================================================================\n",
            "user_input (InputLayer)         [(None, 1)]          0                                            \n",
            "__________________________________________________________________________________________________\n",
            "item_input (InputLayer)         [(None, 1)]          0                                            \n",
            "__________________________________________________________________________________________________\n",
            "user_embedding (Embedding)      (None, 1, 32)        19552       user_input[0][0]                 \n",
            "__________________________________________________________________________________________________\n",
            "item_embedding (Embedding)      (None, 1, 32)        311200      item_input[0][0]                 \n",
            "__________________________________________________________________________________________________\n",
            "flatten_26 (Flatten)            (None, 32)           0           user_embedding[0][0]             \n",
            "__________________________________________________________________________________________________\n",
            "flatten_27 (Flatten)            (None, 32)           0           item_embedding[0][0]             \n",
            "__________________________________________________________________________________________________\n",
            "concatenate (Concatenate)       (None, 64)           0           flatten_26[0][0]                 \n",
            "                                                                 flatten_27[0][0]                 \n",
            "__________________________________________________________________________________________________\n",
            "layer1 (Dense)                  (None, 32)           2080        concatenate[0][0]                \n",
            "__________________________________________________________________________________________________\n",
            "layer2 (Dense)                  (None, 16)           528         layer1[0][0]                     \n",
            "__________________________________________________________________________________________________\n",
            "layer3 (Dense)                  (None, 8)            136         layer2[0][0]                     \n",
            "__________________________________________________________________________________________________\n",
            "prediction (Dense)              (None, 1)            9           layer3[0][0]                     \n",
            "==================================================================================================\n",
            "Total params: 333,505\n",
            "Trainable params: 333,505\n",
            "Non-trainable params: 0\n",
            "__________________________________________________________________________________________________\n"
          ],
          "name": "stdout"
        }
      ]
    },
    {
      "cell_type": "code",
      "metadata": {
        "id": "4FQkpWGnL69j",
        "colab": {
          "base_uri": "https://localhost:8080/",
          "height": 513
        },
        "outputId": "3b5a024e-6207-4cd4-c8f8-be68b70a173d"
      },
      "source": [
        "# Train MLP Model\n",
        "\n",
        "# model config\n",
        "BATCH_SIZE = 64\n",
        "EPOCHS = 30\n",
        "VAL_SPLIT = 0.25\n",
        "\n",
        "# train model\n",
        "history = train_model(MLP_model, 'adam', BATCH_SIZE, EPOCHS, VAL_SPLIT, \n",
        "                      inputs=[df_train.userId.values, df_train.movieId.values],\n",
        "                      outputs=df_train.rating.values)"
      ],
      "execution_count": null,
      "outputs": [
        {
          "output_type": "stream",
          "text": [
            "Train on 56720 samples, validate on 18907 samples\n",
            "Epoch 1/30\n",
            "56720/56720 [==============================] - 4s 73us/sample - loss: 2.0749 - mean_squared_error: 2.0749 - rmse: 1.2138 - val_loss: 0.7942 - val_mean_squared_error: 0.7942 - val_rmse: 0.8876\n",
            "Epoch 2/30\n",
            "56720/56720 [==============================] - 4s 62us/sample - loss: 0.7219 - mean_squared_error: 0.7220 - rmse: 0.8451 - val_loss: 0.7788 - val_mean_squared_error: 0.7788 - val_rmse: 0.8777\n",
            "Epoch 3/30\n",
            "56720/56720 [==============================] - 3s 58us/sample - loss: 0.6721 - mean_squared_error: 0.6721 - rmse: 0.8146 - val_loss: 0.7686 - val_mean_squared_error: 0.7686 - val_rmse: 0.8707\n",
            "Epoch 4/30\n",
            "56720/56720 [==============================] - 3s 59us/sample - loss: 0.6370 - mean_squared_error: 0.6370 - rmse: 0.7931 - val_loss: 0.7698 - val_mean_squared_error: 0.7698 - val_rmse: 0.8717\n",
            "Epoch 5/30\n",
            "56720/56720 [==============================] - 4s 63us/sample - loss: 0.6033 - mean_squared_error: 0.6033 - rmse: 0.7715 - val_loss: 0.7719 - val_mean_squared_error: 0.7719 - val_rmse: 0.8740\n",
            "Epoch 6/30\n",
            "56720/56720 [==============================] - 4s 64us/sample - loss: 0.5717 - mean_squared_error: 0.5717 - rmse: 0.7516 - val_loss: 0.7885 - val_mean_squared_error: 0.7885 - val_rmse: 0.8825\n",
            "Epoch 7/30\n",
            "56720/56720 [==============================] - 4s 65us/sample - loss: 0.5354 - mean_squared_error: 0.5354 - rmse: 0.7267 - val_loss: 0.8183 - val_mean_squared_error: 0.8183 - val_rmse: 0.8980\n",
            "Epoch 8/30\n",
            "56720/56720 [==============================] - 3s 60us/sample - loss: 0.5028 - mean_squared_error: 0.5028 - rmse: 0.7045 - val_loss: 0.8173 - val_mean_squared_error: 0.8173 - val_rmse: 0.8987\n",
            "Epoch 9/30\n",
            "56720/56720 [==============================] - 3s 57us/sample - loss: 0.4689 - mean_squared_error: 0.4689 - rmse: 0.6800 - val_loss: 0.8444 - val_mean_squared_error: 0.8444 - val_rmse: 0.9132\n",
            "Epoch 10/30\n",
            "56720/56720 [==============================] - 3s 60us/sample - loss: 0.4381 - mean_squared_error: 0.4381 - rmse: 0.6570 - val_loss: 0.8620 - val_mean_squared_error: 0.8620 - val_rmse: 0.9215\n",
            "Epoch 11/30\n",
            "56720/56720 [==============================] - 4s 66us/sample - loss: 0.4104 - mean_squared_error: 0.4104 - rmse: 0.6356 - val_loss: 0.8795 - val_mean_squared_error: 0.8795 - val_rmse: 0.9319\n",
            "Epoch 12/30\n",
            "56720/56720 [==============================] - 4s 62us/sample - loss: 0.3817 - mean_squared_error: 0.3817 - rmse: 0.6126 - val_loss: 0.9036 - val_mean_squared_error: 0.9036 - val_rmse: 0.9449\n",
            "Epoch 13/30\n",
            "56720/56720 [==============================] - 4s 64us/sample - loss: 0.3544 - mean_squared_error: 0.3544 - rmse: 0.5903 - val_loss: 0.9168 - val_mean_squared_error: 0.9168 - val_rmse: 0.9515\n",
            "Epoch 00013: early stopping\n"
          ],
          "name": "stdout"
        }
      ]
    },
    {
      "cell_type": "code",
      "metadata": {
        "id": "wpYCPk_DMQ4f",
        "colab": {
          "base_uri": "https://localhost:8080/",
          "height": 458
        },
        "outputId": "55f3a337-6439-41e3-d7bf-057c3e8ae7b0"
      },
      "source": [
        "# MLP Learning Curve\n",
        "\n",
        "plot_learning_curve(history,'rmse')"
      ],
      "execution_count": null,
      "outputs": [
        {
          "output_type": "display_data",
          "data": {
            "image/png": "[encoded data removed]",
            "text/plain": [
              "<Figure size 864x504 with 1 Axes>"
            ]
          },
          "metadata": {
            "tags": []
          }
        }
      ]
    },
    {
      "cell_type": "code",
      "metadata": {
        "id": "Ape_gGeCMZ7u",
        "colab": {
          "base_uri": "https://localhost:8080/",
          "height": 34
        },
        "outputId": "07dc6847-8e04-477e-aef1-73f9f37a0a61"
      },
      "source": [
        "#MLP Model Testing\n",
        "\n",
        "# load best model\n",
        "MLP_model = get_MLP_model(n_users, n_items, [64, 32, 16, 8], [0, 0, 0, 0])\n",
        "MLP_model = load_trained_model(MLP_model, os.path.join(data_path, '/tmp/model.hdf5'))\n",
        "# make prediction using test data\n",
        "predictions = MLP_model.predict([df_test.userId.values, df_test.movieId.values])\n",
        "# get the RMSE\n",
        "error = rmse(df_test.rating.values, predictions)\n",
        "print('The out-of-sample RMSE of rating predictions is', round(error, 4))"
      ],
      "execution_count": null,
      "outputs": [
        {
          "output_type": "stream",
          "text": [
            "The out-of-sample RMSE of rating predictions is 0.8807\n"
          ],
          "name": "stdout"
        }
      ]
    },
    {
      "cell_type": "markdown",
      "metadata": {
        "id": "QQENLV_uMrCM"
      },
      "source": [
        "# Train Neural Matrix Factorization (NeuMF) and Test Model"
      ]
    },
    {
      "cell_type": "code",
      "metadata": {
        "id": "akGLBNG4Mx4U"
      },
      "source": [
        "# define NeuMF model architecture\n",
        "\n",
        "def get_NeuMF_model(n_users, n_items, MF_dim, MF_reg, MLP_layers, MLP_regs):\n",
        "    \"\"\"\n",
        "    Build Neural Matrix Factorization (NeuMF) Model Topology.\n",
        "    This is stack version of both GMF and MLP\n",
        "    \n",
        "    Parameters\n",
        "    ----------\n",
        "    n_users: int, total number of users\n",
        "    n_iterms: int, total number of items\n",
        "    MF_dim: int, embedded dimension for user vector and item vector in MF\n",
        "    MF_reg: tuple of float, L2 regularization of MF embedded layer\n",
        "    MLP_layers: list of int, each element is the number of hidden units for each MLP layer,\n",
        "        with the exception of first element. First element is the sum of dims of\n",
        "        user latent vector and item latent vector\n",
        "    MLP_regs: list of int, each element is the L2 regularization parameter for\n",
        "        each layer in MLP\n",
        "\n",
        "    Return\n",
        "    ------\n",
        "    A Keras Model with MLP model architeture\n",
        "    \"\"\"\n",
        "    assert len(MLP_layers) == len(MLP_regs)\n",
        "    num_MLP_layer = len(MLP_layers) # Number of layers in the MLP\n",
        "    # Input variables\n",
        "    user_input = Input(shape=(1,), dtype='int32', name='user_input')\n",
        "    item_input = Input(shape=(1,), dtype='int32', name='item_input')\n",
        "\n",
        "    # Embedding layer\n",
        "    \n",
        "    # MF\n",
        "    MF_Embedding_User = Embedding(\n",
        "        input_dim=n_users + 1,\n",
        "        output_dim=MF_dim,\n",
        "        embeddings_initializer='uniform',\n",
        "        name='mf_user_embedding',\n",
        "        embeddings_regularizer=l2(MF_reg[0]),\n",
        "        input_length=1)\n",
        "    MF_Embedding_Item = Embedding(\n",
        "        input_dim=n_items + 1,\n",
        "        output_dim=MF_dim,\n",
        "        embeddings_initializer='uniform',\n",
        "        name='mf_item_embedding',\n",
        "        embeddings_regularizer=l2(MF_reg[1]),\n",
        "        input_length=1)\n",
        "    \n",
        "    # MLP\n",
        "    MLP_Embedding_User = Embedding(\n",
        "        input_dim=n_users + 1,\n",
        "        output_dim=MLP_layers[0] // 2,\n",
        "        embeddings_initializer='uniform',\n",
        "        name='mlp_user_embedding',\n",
        "        embeddings_regularizer=l2(MLP_regs[0]),\n",
        "        input_length=1)\n",
        "    MLP_Embedding_Item = Embedding(\n",
        "        input_dim=n_items + 1,\n",
        "        output_dim=MLP_layers[0] // 2,\n",
        "        embeddings_initializer='uniform',\n",
        "        name='mlp_item_embedding',\n",
        "        embeddings_regularizer=l2(MLP_regs[0]),\n",
        "        input_length=1) \n",
        "    \n",
        "    # MF part\n",
        "    mf_user_latent = Flatten()(MF_Embedding_User(user_input))\n",
        "    mf_item_latent = Flatten()(MF_Embedding_Item(item_input))\n",
        "    mf_vector = Multiply()([mf_user_latent, mf_item_latent])\n",
        "\n",
        "    # MLP part\n",
        "    mlp_user_latent = Flatten()(MLP_Embedding_User(user_input))\n",
        "    mlp_item_latent = Flatten()(MLP_Embedding_Item(item_input))\n",
        "    mlp_vector = Concatenate(axis=-1)([mlp_user_latent, mlp_item_latent])\n",
        "    for idx in range(1, num_MLP_layer):\n",
        "        layer = Dense(\n",
        "            units=MLP_layers[idx],\n",
        "            activation='relu',\n",
        "            kernel_initializer='glorot_uniform',\n",
        "            kernel_regularizer=l2(MLP_regs[idx]),\n",
        "            name = 'layer%d' %idx)\n",
        "        mlp_vector = layer(mlp_vector)\n",
        "    \n",
        "    # Concatenate MF and MLP parts\n",
        "    predict_vector = Concatenate(axis=-1)([mf_vector, mlp_vector])\n",
        "\n",
        "    # Final prediction layer\n",
        "    prediction = Dense(1, kernel_initializer='glorot_uniform', name='prediction')(predict_vector)\n",
        "    \n",
        "    # Stitch input and output\n",
        "    model = Model([user_input, item_input], prediction)\n",
        "    \n",
        "    return model"
      ],
      "execution_count": null,
      "outputs": []
    },
    {
      "cell_type": "code",
      "metadata": {
        "id": "AswTsBebNIgH",
        "colab": {
          "base_uri": "https://localhost:8080/",
          "height": 782
        },
        "outputId": "6c2ee46e-e677-428e-f99c-d05b192f875c"
      },
      "source": [
        "# Create NeuMF Model\n",
        "NeuMF_model = get_NeuMF_model(\n",
        "    n_users=n_users,\n",
        "    n_items=n_items,\n",
        "    MF_dim=10,\n",
        "    MF_reg=(0, 0),\n",
        "    MLP_layers=[64, 32, 16, 8],\n",
        "    MLP_regs=[0, 0, 0, 0])\n",
        "NeuMF_model.summary()"
      ],
      "execution_count": null,
      "outputs": [
        {
          "output_type": "stream",
          "text": [
            "Model: \"model_15\"\n",
            "__________________________________________________________________________________________________\n",
            "Layer (type)                    Output Shape         Param #     Connected to                     \n",
            "==================================================================================================\n",
            "user_input (InputLayer)         [(None, 1)]          0                                            \n",
            "__________________________________________________________________________________________________\n",
            "item_input (InputLayer)         [(None, 1)]          0                                            \n",
            "__________________________________________________________________________________________________\n",
            "mlp_user_embedding (Embedding)  (None, 1, 32)        19552       user_input[0][0]                 \n",
            "__________________________________________________________________________________________________\n",
            "mlp_item_embedding (Embedding)  (None, 1, 32)        311200      item_input[0][0]                 \n",
            "__________________________________________________________________________________________________\n",
            "flatten_32 (Flatten)            (None, 32)           0           mlp_user_embedding[0][0]         \n",
            "__________________________________________________________________________________________________\n",
            "flatten_33 (Flatten)            (None, 32)           0           mlp_item_embedding[0][0]         \n",
            "__________________________________________________________________________________________________\n",
            "concatenate_2 (Concatenate)     (None, 64)           0           flatten_32[0][0]                 \n",
            "                                                                 flatten_33[0][0]                 \n",
            "__________________________________________________________________________________________________\n",
            "mf_user_embedding (Embedding)   (None, 1, 10)        6110        user_input[0][0]                 \n",
            "__________________________________________________________________________________________________\n",
            "mf_item_embedding (Embedding)   (None, 1, 10)        97250       item_input[0][0]                 \n",
            "__________________________________________________________________________________________________\n",
            "layer1 (Dense)                  (None, 32)           2080        concatenate_2[0][0]              \n",
            "__________________________________________________________________________________________________\n",
            "flatten_30 (Flatten)            (None, 10)           0           mf_user_embedding[0][0]          \n",
            "__________________________________________________________________________________________________\n",
            "flatten_31 (Flatten)            (None, 10)           0           mf_item_embedding[0][0]          \n",
            "__________________________________________________________________________________________________\n",
            "layer2 (Dense)                  (None, 16)           528         layer1[0][0]                     \n",
            "__________________________________________________________________________________________________\n",
            "multiply_13 (Multiply)          (None, 10)           0           flatten_30[0][0]                 \n",
            "                                                                 flatten_31[0][0]                 \n",
            "__________________________________________________________________________________________________\n",
            "layer3 (Dense)                  (None, 8)            136         layer2[0][0]                     \n",
            "__________________________________________________________________________________________________\n",
            "concatenate_3 (Concatenate)     (None, 18)           0           multiply_13[0][0]                \n",
            "                                                                 layer3[0][0]                     \n",
            "__________________________________________________________________________________________________\n",
            "prediction (Dense)              (None, 1)            19          concatenate_3[0][0]              \n",
            "==================================================================================================\n",
            "Total params: 436,875\n",
            "Trainable params: 436,875\n",
            "Non-trainable params: 0\n",
            "__________________________________________________________________________________________________\n"
          ],
          "name": "stdout"
        }
      ]
    },
    {
      "cell_type": "code",
      "metadata": {
        "id": "q8f2QB1tNdTo",
        "colab": {
          "base_uri": "https://localhost:8080/",
          "height": 479
        },
        "outputId": "3423939d-7ee9-4d26-b4a4-622faf19c7cf"
      },
      "source": [
        "#Train NeuMF model\n",
        "# model config\n",
        "BATCH_SIZE = 64\n",
        "EPOCHS = 30\n",
        "VAL_SPLIT = 0.25\n",
        "\n",
        "# train model\n",
        "history = train_model(NeuMF_model, 'adam', BATCH_SIZE, EPOCHS, VAL_SPLIT, \n",
        "                      inputs=[df_train.userId.values, df_train.movieId.values],\n",
        "                      outputs=df_train.rating.values)"
      ],
      "execution_count": null,
      "outputs": [
        {
          "output_type": "stream",
          "text": [
            "Train on 56720 samples, validate on 18907 samples\n",
            "Epoch 1/30\n",
            "56720/56720 [==============================] - 5s 85us/sample - loss: 1.8390 - mean_squared_error: 1.8390 - rmse: 1.1634 - val_loss: 0.7865 - val_mean_squared_error: 0.7865 - val_rmse: 0.8820\n",
            "Epoch 2/30\n",
            "56720/56720 [==============================] - 4s 75us/sample - loss: 0.7179 - mean_squared_error: 0.7179 - rmse: 0.8421 - val_loss: 0.7745 - val_mean_squared_error: 0.7745 - val_rmse: 0.8754\n",
            "Epoch 3/30\n",
            "56720/56720 [==============================] - 4s 77us/sample - loss: 0.5950 - mean_squared_error: 0.5950 - rmse: 0.7667 - val_loss: 0.7849 - val_mean_squared_error: 0.7849 - val_rmse: 0.8816\n",
            "Epoch 4/30\n",
            "56720/56720 [==============================] - 4s 78us/sample - loss: 0.4516 - mean_squared_error: 0.4516 - rmse: 0.6670 - val_loss: 0.8231 - val_mean_squared_error: 0.8231 - val_rmse: 0.9024\n",
            "Epoch 5/30\n",
            "56720/56720 [==============================] - 4s 74us/sample - loss: 0.3668 - mean_squared_error: 0.3668 - rmse: 0.6007 - val_loss: 0.8700 - val_mean_squared_error: 0.8700 - val_rmse: 0.9274\n",
            "Epoch 6/30\n",
            "56720/56720 [==============================] - 4s 70us/sample - loss: 0.3176 - mean_squared_error: 0.3176 - rmse: 0.5587 - val_loss: 0.9014 - val_mean_squared_error: 0.9014 - val_rmse: 0.9444\n",
            "Epoch 7/30\n",
            "56720/56720 [==============================] - 5s 83us/sample - loss: 0.2842 - mean_squared_error: 0.2842 - rmse: 0.5284 - val_loss: 0.9254 - val_mean_squared_error: 0.9254 - val_rmse: 0.9568\n",
            "Epoch 8/30\n",
            "56720/56720 [==============================] - 4s 77us/sample - loss: 0.2583 - mean_squared_error: 0.2583 - rmse: 0.5033 - val_loss: 0.9602 - val_mean_squared_error: 0.9602 - val_rmse: 0.9748\n",
            "Epoch 9/30\n",
            "56720/56720 [==============================] - 4s 73us/sample - loss: 0.2384 - mean_squared_error: 0.2384 - rmse: 0.4839 - val_loss: 0.9750 - val_mean_squared_error: 0.9750 - val_rmse: 0.9825\n",
            "Epoch 10/30\n",
            "56720/56720 [==============================] - 4s 71us/sample - loss: 0.2219 - mean_squared_error: 0.2219 - rmse: 0.4663 - val_loss: 0.9955 - val_mean_squared_error: 0.9955 - val_rmse: 0.9932\n",
            "Epoch 11/30\n",
            "56720/56720 [==============================] - 5s 81us/sample - loss: 0.2056 - mean_squared_error: 0.2056 - rmse: 0.4491 - val_loss: 1.0168 - val_mean_squared_error: 1.0168 - val_rmse: 1.0035\n",
            "Epoch 12/30\n",
            "56720/56720 [==============================] - 4s 75us/sample - loss: 0.1924 - mean_squared_error: 0.1924 - rmse: 0.4347 - val_loss: 1.0203 - val_mean_squared_error: 1.0203 - val_rmse: 1.0052\n",
            "Epoch 00012: early stopping\n"
          ],
          "name": "stdout"
        }
      ]
    },
    {
      "cell_type": "code",
      "metadata": {
        "id": "d05V-5BSNk-M",
        "colab": {
          "base_uri": "https://localhost:8080/",
          "height": 458
        },
        "outputId": "9bd3af52-173f-4c38-ced9-5a31f7f4c985"
      },
      "source": [
        "# NeuMF Learning Curve\n",
        "plot_learning_curve(history,'rmse')"
      ],
      "execution_count": null,
      "outputs": [
        {
          "output_type": "display_data",
          "data": {
            "image/png": "[encoded data removed]",
            "text/plain": [
              "<Figure size 864x504 with 1 Axes>"
            ]
          },
          "metadata": {
            "tags": []
          }
        }
      ]
    },
    {
      "cell_type": "code",
      "metadata": {
        "id": "Jh-8IvjqNscp",
        "colab": {
          "base_uri": "https://localhost:8080/",
          "height": 34
        },
        "outputId": "7fcae1b3-bce1-40e3-e040-4f8bbfcce9aa"
      },
      "source": [
        "#NeuMF Model Testing\n",
        "# load best model\n",
        "NeuMF_model = get_NeuMF_model(\n",
        "    n_users=n_users,\n",
        "    n_items=n_items,\n",
        "    MF_dim=10,\n",
        "    MF_reg=(0, 0),\n",
        "    MLP_layers=[64, 32, 16, 8],\n",
        "    MLP_regs=[0, 0, 0, 0])\n",
        "NeuMF_model = load_trained_model(NeuMF_model, os.path.join(data_path, '/tmp/model.hdf5'))\n",
        "# make prediction using test data\n",
        "predictions = NeuMF_model.predict([df_test.userId.values, df_test.movieId.values])\n",
        "# get the RMSE\n",
        "error = rmse(df_test.rating.values, predictions)\n",
        "print('The out-of-sample RMSE of rating predictions is', round(error, 4))"
      ],
      "execution_count": null,
      "outputs": [
        {
          "output_type": "stream",
          "text": [
            "The out-of-sample RMSE of rating predictions is 0.8858\n"
          ],
          "name": "stdout"
        }
      ]
    },
    {
      "cell_type": "markdown",
      "metadata": {
        "id": "O4POuadpN_Pu"
      },
      "source": [
        "# Comparison \n",
        "\n",
        "\n",
        "1.   ALS's best RMSE is\n",
        "2.   GMF's best RMSE is 0.9871\n",
        "3.   MLP's best RMSE is 0.8807\n",
        "4.   NeuMF's best RMSE is 0.8858\n",
        "\n",
        "\n",
        "\n"
      ]
    },
    {
      "cell_type": "code",
      "metadata": {
        "id": "HTl-O4ozV_WX"
      },
      "source": [
        "def fuzzy_matching(mapper, fav_movie, verbose=True):\n",
        "    \"\"\"\n",
        "    return the closest match via fuzzy ratio. If no match found, return None\n",
        "    \n",
        "    Parameters\n",
        "    ----------    \n",
        "    mapper: dict, map movie title name to index of the movie in data\n",
        "\n",
        "    fav_movie: str, name of user input movie\n",
        "    \n",
        "    verbose: bool, print log if True\n",
        "\n",
        "    Return\n",
        "    ------\n",
        "    index of the closest match\n",
        "    \"\"\"\n",
        "    match_tuple = []\n",
        "    # get match\n",
        "    for title, idx in mapper.items():\n",
        "        ratio = fuzz.ratio(title.lower(), fav_movie.lower())\n",
        "        if ratio >= 60:\n",
        "            match_tuple.append((title, idx, ratio))\n",
        "    # sort\n",
        "    match_tuple = sorted(match_tuple, key=lambda x: x[2])[::-1]\n",
        "    if not match_tuple:\n",
        "        print('Oops! No match is found')\n",
        "        return\n",
        "    if verbose:\n",
        "        print('Found possible matches in our database: {0}\\n'.format([x[0] for x in match_tuple]))\n",
        "    return match_tuple[0][1]\n",
        "\n",
        "\n",
        "\n",
        "def make_recommendation(NeuMF_model, data, mapper, fav_movie, n_recommendations):\n",
        "    \"\"\"\n",
        "    return top n similar movie recommendations based on user's input movie\n",
        "\n",
        "\n",
        "    Parameters\n",
        "    ----------\n",
        "    model_knn: sklearn model, knn model\n",
        "\n",
        "    data: movie-user matrix\n",
        "\n",
        "    mapper: dict, map movie title name to index of the movie in data\n",
        "\n",
        "    fav_movie: str, name of user input movie\n",
        "\n",
        "    n_recommendations: int, top n recommendations\n",
        "\n",
        "    Return\n",
        "    ------\n",
        "    list of top n similar movie recommendations\n",
        "    \"\"\"\n",
        "    # fit\n",
        "    NeuMF_model.fit(data)\n",
        "    # get input movie index\n",
        "    print('You have input movie:', fav_movie)\n",
        "    idx = fuzzy_matching(mapper, fav_movie, verbose=True)\n",
        "    # inference\n",
        "    print('Recommendation system start to make inference')\n",
        "    print('......\\n')\n",
        "    distances, indices = model_knn.kneighbors(data[idx], n_neighbors=n_recommendations+1)\n",
        "    # get list of raw idx of recommendations\n",
        "    raw_recommends = \\\n",
        "        sorted(list(zip(indices.squeeze().tolist(), distances.squeeze().tolist())), key=lambda x: x[1])[:0:-1]\n",
        "    # get reverse mapper\n",
        "    reverse_mapper = {v: k for k, v in mapper.items()}\n",
        "    # print recommendations\n",
        "    print('Recommendations for {}:'.format(fav_movie))\n",
        "    for i, (idx, dist) in enumerate(raw_recommends):\n",
        "        print('{0}: {1}, with distance of {2}'.format(i+1, reverse_mapper[idx], dist))"
      ],
      "execution_count": null,
      "outputs": []
    },
    {
      "cell_type": "code",
      "metadata": {
        "id": "ZntJSjSVXrLc"
      },
      "source": [
        "my_favorite = 'Social Network'\n",
        "\n",
        "make_recommendation(\n",
        "    model_knn=model_knn,\n",
        "    data=movie_user_mat_sparse,\n",
        "    fav_movie=my_favorite,\n",
        "    mapper=movie_to_idx,\n",
        "    n_recommendations=10)"
      ],
      "execution_count": null,
      "outputs": []
    }
  ]
}